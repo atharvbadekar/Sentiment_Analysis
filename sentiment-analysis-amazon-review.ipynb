{
 "cells": [
  {
   "cell_type": "code",
   "execution_count": 1,
   "id": "7395dba2",
   "metadata": {
    "execution": {
     "iopub.execute_input": "2023-08-17T19:56:19.080437Z",
     "iopub.status.busy": "2023-08-17T19:56:19.080037Z",
     "iopub.status.idle": "2023-08-17T19:56:22.639993Z",
     "shell.execute_reply": "2023-08-17T19:56:22.638499Z"
    },
    "papermill": {
     "duration": 3.580929,
     "end_time": "2023-08-17T19:56:22.643597",
     "exception": false,
     "start_time": "2023-08-17T19:56:19.062668",
     "status": "completed"
    },
    "tags": []
   },
   "outputs": [
    {
     "name": "stderr",
     "output_type": "stream",
     "text": [
      "/opt/conda/lib/python3.10/site-packages/scipy/__init__.py:146: UserWarning: A NumPy version >=1.16.5 and <1.23.0 is required for this version of SciPy (detected version 1.23.5\n",
      "  warnings.warn(f\"A NumPy version >={np_minversion} and <{np_maxversion}\"\n"
     ]
    }
   ],
   "source": [
    "# Import statements\n",
    "import pandas as pd\n",
    "import numpy as np\n",
    "import matplotlib.pyplot as plt\n",
    "import seaborn as sns\n",
    "import re\n",
    "import nltk\n",
    "from sklearn.model_selection import train_test_split\n",
    "from sklearn.feature_extraction.text import TfidfVectorizer\n",
    "from sklearn.pipeline import Pipeline \n",
    "from sklearn.metrics import accuracy_score, confusion_matrix, classification_report,ConfusionMatrixDisplay\n",
    "from sklearn import naive_bayes\n",
    "from sklearn.linear_model import LogisticRegression\n",
    "from sklearn.svm import LinearSVC\n",
    "from sklearn.neighbors import KNeighborsClassifier\n",
    "from bs4 import BeautifulSoup\n",
    "from nltk.corpus import stopwords \n",
    "from sklearn.ensemble import RandomForestClassifier"
   ]
  },
  {
   "cell_type": "code",
   "execution_count": 2,
   "id": "4da2f1ac",
   "metadata": {
    "execution": {
     "iopub.execute_input": "2023-08-17T19:56:22.676764Z",
     "iopub.status.busy": "2023-08-17T19:56:22.676062Z",
     "iopub.status.idle": "2023-08-17T19:56:38.355938Z",
     "shell.execute_reply": "2023-08-17T19:56:38.354731Z"
    },
    "papermill": {
     "duration": 15.699267,
     "end_time": "2023-08-17T19:56:38.358859",
     "exception": false,
     "start_time": "2023-08-17T19:56:22.659592",
     "status": "completed"
    },
    "tags": []
   },
   "outputs": [
    {
     "name": "stdout",
     "output_type": "stream",
     "text": [
      "Requirement already satisfied: numpy in /opt/conda/lib/python3.10/site-packages (1.23.5)\r\n",
      "Note: you may need to restart the kernel to use updated packages.\n"
     ]
    }
   ],
   "source": [
    "pip install numpy"
   ]
  },
  {
   "cell_type": "code",
   "execution_count": 3,
   "id": "dafbb077",
   "metadata": {
    "execution": {
     "iopub.execute_input": "2023-08-17T19:56:38.394953Z",
     "iopub.status.busy": "2023-08-17T19:56:38.394437Z",
     "iopub.status.idle": "2023-08-17T19:56:38.817572Z",
     "shell.execute_reply": "2023-08-17T19:56:38.816396Z"
    },
    "papermill": {
     "duration": 0.446126,
     "end_time": "2023-08-17T19:56:38.820319",
     "exception": false,
     "start_time": "2023-08-17T19:56:38.374193",
     "status": "completed"
    },
    "tags": []
   },
   "outputs": [],
   "source": [
    "# reading data from sample dataset\n",
    "# data = pd.read_csv('amazon_pc.csv')\n",
    "data = pd.read_csv('/kaggle/input/amazon/appl_1_amazon_pc.csv')"
   ]
  },
  {
   "cell_type": "code",
   "execution_count": 4,
   "id": "a0cdbb39",
   "metadata": {
    "execution": {
     "iopub.execute_input": "2023-08-17T19:56:38.850632Z",
     "iopub.status.busy": "2023-08-17T19:56:38.850207Z",
     "iopub.status.idle": "2023-08-17T19:56:38.884263Z",
     "shell.execute_reply": "2023-08-17T19:56:38.883133Z"
    },
    "papermill": {
     "duration": 0.052475,
     "end_time": "2023-08-17T19:56:38.887052",
     "exception": false,
     "start_time": "2023-08-17T19:56:38.834577",
     "status": "completed"
    },
    "tags": []
   },
   "outputs": [
    {
     "data": {
      "text/html": [
       "<div>\n",
       "<style scoped>\n",
       "    .dataframe tbody tr th:only-of-type {\n",
       "        vertical-align: middle;\n",
       "    }\n",
       "\n",
       "    .dataframe tbody tr th {\n",
       "        vertical-align: top;\n",
       "    }\n",
       "\n",
       "    .dataframe thead th {\n",
       "        text-align: right;\n",
       "    }\n",
       "</style>\n",
       "<table border=\"1\" class=\"dataframe\">\n",
       "  <thead>\n",
       "    <tr style=\"text-align: right;\">\n",
       "      <th></th>\n",
       "      <th>marketplace</th>\n",
       "      <th>customer_id</th>\n",
       "      <th>review_id</th>\n",
       "      <th>product_id</th>\n",
       "      <th>product_parent</th>\n",
       "      <th>product_title</th>\n",
       "      <th>product_category</th>\n",
       "      <th>star_rating</th>\n",
       "      <th>helpful_votes</th>\n",
       "      <th>total_votes</th>\n",
       "      <th>vine</th>\n",
       "      <th>verified_purchase</th>\n",
       "      <th>review_headline</th>\n",
       "      <th>review_body</th>\n",
       "      <th>review_date</th>\n",
       "      <th>sentiment</th>\n",
       "    </tr>\n",
       "  </thead>\n",
       "  <tbody>\n",
       "    <tr>\n",
       "      <th>0</th>\n",
       "      <td>US</td>\n",
       "      <td>11555559</td>\n",
       "      <td>R1QXC7AHHJBQ3O</td>\n",
       "      <td>B00IKPX4GY</td>\n",
       "      <td>2693241</td>\n",
       "      <td>Fire HD 7, 7\" HD Display, Wi-Fi, 8 GB</td>\n",
       "      <td>PC</td>\n",
       "      <td>5</td>\n",
       "      <td>0</td>\n",
       "      <td>0</td>\n",
       "      <td>N</td>\n",
       "      <td>Y</td>\n",
       "      <td>Five Stars</td>\n",
       "      <td>Great love it</td>\n",
       "      <td>2015-08-31</td>\n",
       "      <td>1</td>\n",
       "    </tr>\n",
       "    <tr>\n",
       "      <th>1</th>\n",
       "      <td>US</td>\n",
       "      <td>31469372</td>\n",
       "      <td>R175VSRV6ZETOP</td>\n",
       "      <td>B00IKPYKWG</td>\n",
       "      <td>2693241</td>\n",
       "      <td>Fire HD 7, 7\" HD Display, Wi-Fi, 8 GB</td>\n",
       "      <td>PC</td>\n",
       "      <td>3</td>\n",
       "      <td>0</td>\n",
       "      <td>0</td>\n",
       "      <td>N</td>\n",
       "      <td>N</td>\n",
       "      <td>Lots of ads Slow processing speed Occasionally...</td>\n",
       "      <td>Lots of ads&lt;br /&gt;Slow processing speed&lt;br /&gt;Oc...</td>\n",
       "      <td>2015-08-31</td>\n",
       "      <td>0</td>\n",
       "    </tr>\n",
       "    <tr>\n",
       "      <th>2</th>\n",
       "      <td>US</td>\n",
       "      <td>26843895</td>\n",
       "      <td>R2HRFF78MWGY19</td>\n",
       "      <td>B00IKPW0UA</td>\n",
       "      <td>2693241</td>\n",
       "      <td>Fire HD 7, 7\" HD Display, Wi-Fi, 8 GB</td>\n",
       "      <td>PC</td>\n",
       "      <td>5</td>\n",
       "      <td>0</td>\n",
       "      <td>0</td>\n",
       "      <td>N</td>\n",
       "      <td>Y</td>\n",
       "      <td>Well thought out device</td>\n",
       "      <td>Excellent unit.  The versatility of this table...</td>\n",
       "      <td>2015-08-31</td>\n",
       "      <td>1</td>\n",
       "    </tr>\n",
       "    <tr>\n",
       "      <th>3</th>\n",
       "      <td>US</td>\n",
       "      <td>19844868</td>\n",
       "      <td>R8Q39WPKYVSTX</td>\n",
       "      <td>B00LCHSHMS</td>\n",
       "      <td>2693241</td>\n",
       "      <td>Fire HD 7, 7\" HD Display, Wi-Fi, 8 GB</td>\n",
       "      <td>PC</td>\n",
       "      <td>4</td>\n",
       "      <td>0</td>\n",
       "      <td>0</td>\n",
       "      <td>N</td>\n",
       "      <td>N</td>\n",
       "      <td>Not all apps/games we were looking forward to ...</td>\n",
       "      <td>I bought this on Amazon Prime so I ended up bu...</td>\n",
       "      <td>2015-08-31</td>\n",
       "      <td>1</td>\n",
       "    </tr>\n",
       "    <tr>\n",
       "      <th>4</th>\n",
       "      <td>US</td>\n",
       "      <td>1189852</td>\n",
       "      <td>R3RL4C8YP2ZCJL</td>\n",
       "      <td>B00IKPZ5V6</td>\n",
       "      <td>2693241</td>\n",
       "      <td>Fire HD 7, 7\" HD Display, Wi-Fi, 8 GB</td>\n",
       "      <td>PC</td>\n",
       "      <td>5</td>\n",
       "      <td>0</td>\n",
       "      <td>0</td>\n",
       "      <td>N</td>\n",
       "      <td>Y</td>\n",
       "      <td>Five Stars</td>\n",
       "      <td>All Amazon products continue to meet my expect...</td>\n",
       "      <td>2015-08-31</td>\n",
       "      <td>1</td>\n",
       "    </tr>\n",
       "  </tbody>\n",
       "</table>\n",
       "</div>"
      ],
      "text/plain": [
       "  marketplace  customer_id       review_id  product_id  product_parent  \\\n",
       "0          US     11555559  R1QXC7AHHJBQ3O  B00IKPX4GY         2693241   \n",
       "1          US     31469372  R175VSRV6ZETOP  B00IKPYKWG         2693241   \n",
       "2          US     26843895  R2HRFF78MWGY19  B00IKPW0UA         2693241   \n",
       "3          US     19844868   R8Q39WPKYVSTX  B00LCHSHMS         2693241   \n",
       "4          US      1189852  R3RL4C8YP2ZCJL  B00IKPZ5V6         2693241   \n",
       "\n",
       "                           product_title product_category  star_rating  \\\n",
       "0  Fire HD 7, 7\" HD Display, Wi-Fi, 8 GB               PC            5   \n",
       "1  Fire HD 7, 7\" HD Display, Wi-Fi, 8 GB               PC            3   \n",
       "2  Fire HD 7, 7\" HD Display, Wi-Fi, 8 GB               PC            5   \n",
       "3  Fire HD 7, 7\" HD Display, Wi-Fi, 8 GB               PC            4   \n",
       "4  Fire HD 7, 7\" HD Display, Wi-Fi, 8 GB               PC            5   \n",
       "\n",
       "   helpful_votes  total_votes vine verified_purchase  \\\n",
       "0              0            0    N                 Y   \n",
       "1              0            0    N                 N   \n",
       "2              0            0    N                 Y   \n",
       "3              0            0    N                 N   \n",
       "4              0            0    N                 Y   \n",
       "\n",
       "                                     review_headline  \\\n",
       "0                                         Five Stars   \n",
       "1  Lots of ads Slow processing speed Occasionally...   \n",
       "2                            Well thought out device   \n",
       "3  Not all apps/games we were looking forward to ...   \n",
       "4                                         Five Stars   \n",
       "\n",
       "                                         review_body review_date  sentiment  \n",
       "0                                      Great love it  2015-08-31          1  \n",
       "1  Lots of ads<br />Slow processing speed<br />Oc...  2015-08-31          0  \n",
       "2  Excellent unit.  The versatility of this table...  2015-08-31          1  \n",
       "3  I bought this on Amazon Prime so I ended up bu...  2015-08-31          1  \n",
       "4  All Amazon products continue to meet my expect...  2015-08-31          1  "
      ]
     },
     "execution_count": 4,
     "metadata": {},
     "output_type": "execute_result"
    }
   ],
   "source": [
    "# print 5 records from dataset\n",
    "data.head(5)"
   ]
  },
  {
   "cell_type": "code",
   "execution_count": 5,
   "id": "03e8ca0f",
   "metadata": {
    "execution": {
     "iopub.execute_input": "2023-08-17T19:56:38.918109Z",
     "iopub.status.busy": "2023-08-17T19:56:38.917677Z",
     "iopub.status.idle": "2023-08-17T19:56:38.925894Z",
     "shell.execute_reply": "2023-08-17T19:56:38.924704Z"
    },
    "papermill": {
     "duration": 0.026699,
     "end_time": "2023-08-17T19:56:38.928398",
     "exception": false,
     "start_time": "2023-08-17T19:56:38.901699",
     "status": "completed"
    },
    "tags": []
   },
   "outputs": [
    {
     "data": {
      "text/plain": [
       "Index(['marketplace', 'customer_id', 'review_id', 'product_id',\n",
       "       'product_parent', 'product_title', 'product_category', 'star_rating',\n",
       "       'helpful_votes', 'total_votes', 'vine', 'verified_purchase',\n",
       "       'review_headline', 'review_body', 'review_date', 'sentiment'],\n",
       "      dtype='object')"
      ]
     },
     "execution_count": 5,
     "metadata": {},
     "output_type": "execute_result"
    }
   ],
   "source": [
    "# print various attributes available in the dataset\n",
    "data.columns"
   ]
  },
  {
   "cell_type": "code",
   "execution_count": 6,
   "id": "8bc1c58a",
   "metadata": {
    "execution": {
     "iopub.execute_input": "2023-08-17T19:56:38.959787Z",
     "iopub.status.busy": "2023-08-17T19:56:38.959363Z",
     "iopub.status.idle": "2023-08-17T19:56:39.098157Z",
     "shell.execute_reply": "2023-08-17T19:56:39.096676Z"
    },
    "papermill": {
     "duration": 0.157786,
     "end_time": "2023-08-17T19:56:39.100997",
     "exception": false,
     "start_time": "2023-08-17T19:56:38.943211",
     "status": "completed"
    },
    "tags": []
   },
   "outputs": [
    {
     "name": "stdout",
     "output_type": "stream",
     "text": [
      "<class 'pandas.core.frame.DataFrame'>\n",
      "RangeIndex: 30846 entries, 0 to 30845\n",
      "Data columns (total 16 columns):\n",
      " #   Column             Non-Null Count  Dtype \n",
      "---  ------             --------------  ----- \n",
      " 0   marketplace        30846 non-null  object\n",
      " 1   customer_id        30846 non-null  int64 \n",
      " 2   review_id          30846 non-null  object\n",
      " 3   product_id         30846 non-null  object\n",
      " 4   product_parent     30846 non-null  int64 \n",
      " 5   product_title      30846 non-null  object\n",
      " 6   product_category   30846 non-null  object\n",
      " 7   star_rating        30846 non-null  int64 \n",
      " 8   helpful_votes      30846 non-null  int64 \n",
      " 9   total_votes        30846 non-null  int64 \n",
      " 10  vine               30846 non-null  object\n",
      " 11  verified_purchase  30846 non-null  object\n",
      " 12  review_headline    30846 non-null  object\n",
      " 13  review_body        30846 non-null  object\n",
      " 14  review_date        30846 non-null  object\n",
      " 15  sentiment          30846 non-null  int64 \n",
      "dtypes: int64(6), object(10)\n",
      "memory usage: 3.8+ MB\n"
     ]
    }
   ],
   "source": [
    "# print properties of attributes in the dataset\n",
    "data.info()"
   ]
  },
  {
   "cell_type": "code",
   "execution_count": 7,
   "id": "6fb25702",
   "metadata": {
    "execution": {
     "iopub.execute_input": "2023-08-17T19:56:39.133800Z",
     "iopub.status.busy": "2023-08-17T19:56:39.133358Z",
     "iopub.status.idle": "2023-08-17T19:56:39.142387Z",
     "shell.execute_reply": "2023-08-17T19:56:39.141086Z"
    },
    "papermill": {
     "duration": 0.028448,
     "end_time": "2023-08-17T19:56:39.145263",
     "exception": false,
     "start_time": "2023-08-17T19:56:39.116815",
     "status": "completed"
    },
    "tags": []
   },
   "outputs": [],
   "source": [
    "# adding a sentiment column to classify reviews as Positive or Negative\n",
    "# Positive = 1\n",
    "# Negative = 0\n",
    "\n",
    "data['sentiment'] = np.where(data['star_rating'] == 5.0, 1,\n",
    "                           np.where(data['star_rating'] == 4.0, 1, 0))"
   ]
  },
  {
   "cell_type": "code",
   "execution_count": 8,
   "id": "2a2b2732",
   "metadata": {
    "execution": {
     "iopub.execute_input": "2023-08-17T19:56:39.178035Z",
     "iopub.status.busy": "2023-08-17T19:56:39.177609Z",
     "iopub.status.idle": "2023-08-17T19:56:39.190192Z",
     "shell.execute_reply": "2023-08-17T19:56:39.188469Z"
    },
    "papermill": {
     "duration": 0.033549,
     "end_time": "2023-08-17T19:56:39.194069",
     "exception": false,
     "start_time": "2023-08-17T19:56:39.160520",
     "status": "completed"
    },
    "tags": []
   },
   "outputs": [
    {
     "data": {
      "text/plain": [
       "array(['Fire HD 7, 7\" HD Display, Wi-Fi, 8 GB'], dtype=object)"
      ]
     },
     "execution_count": 8,
     "metadata": {},
     "output_type": "execute_result"
    }
   ],
   "source": [
    "# get unique values of product title column\n",
    "data[\"product_title\"].unique()"
   ]
  },
  {
   "cell_type": "code",
   "execution_count": 9,
   "id": "1bd9af64",
   "metadata": {
    "execution": {
     "iopub.execute_input": "2023-08-17T19:56:39.232847Z",
     "iopub.status.busy": "2023-08-17T19:56:39.232293Z",
     "iopub.status.idle": "2023-08-17T19:56:39.293517Z",
     "shell.execute_reply": "2023-08-17T19:56:39.292133Z"
    },
    "papermill": {
     "duration": 0.086336,
     "end_time": "2023-08-17T19:56:39.296975",
     "exception": false,
     "start_time": "2023-08-17T19:56:39.210639",
     "status": "completed"
    },
    "tags": []
   },
   "outputs": [
    {
     "data": {
      "text/html": [
       "<div>\n",
       "<style scoped>\n",
       "    .dataframe tbody tr th:only-of-type {\n",
       "        vertical-align: middle;\n",
       "    }\n",
       "\n",
       "    .dataframe tbody tr th {\n",
       "        vertical-align: top;\n",
       "    }\n",
       "\n",
       "    .dataframe thead th {\n",
       "        text-align: right;\n",
       "    }\n",
       "</style>\n",
       "<table border=\"1\" class=\"dataframe\">\n",
       "  <thead>\n",
       "    <tr style=\"text-align: right;\">\n",
       "      <th></th>\n",
       "      <th>marketplace</th>\n",
       "      <th>customer_id</th>\n",
       "      <th>review_id</th>\n",
       "      <th>product_id</th>\n",
       "      <th>product_parent</th>\n",
       "      <th>product_title</th>\n",
       "      <th>product_category</th>\n",
       "      <th>star_rating</th>\n",
       "      <th>helpful_votes</th>\n",
       "      <th>total_votes</th>\n",
       "      <th>vine</th>\n",
       "      <th>verified_purchase</th>\n",
       "      <th>review_headline</th>\n",
       "      <th>review_body</th>\n",
       "      <th>review_date</th>\n",
       "      <th>sentiment</th>\n",
       "    </tr>\n",
       "  </thead>\n",
       "  <tbody>\n",
       "    <tr>\n",
       "      <th>0</th>\n",
       "      <td>US</td>\n",
       "      <td>11555559</td>\n",
       "      <td>R1QXC7AHHJBQ3O</td>\n",
       "      <td>B00IKPX4GY</td>\n",
       "      <td>2693241</td>\n",
       "      <td>Fire HD 7, 7\" HD Display, Wi-Fi, 8 GB</td>\n",
       "      <td>PC</td>\n",
       "      <td>5</td>\n",
       "      <td>0</td>\n",
       "      <td>0</td>\n",
       "      <td>N</td>\n",
       "      <td>Y</td>\n",
       "      <td>Five Stars</td>\n",
       "      <td>Great love it</td>\n",
       "      <td>2015-08-31</td>\n",
       "      <td>1</td>\n",
       "    </tr>\n",
       "    <tr>\n",
       "      <th>1</th>\n",
       "      <td>US</td>\n",
       "      <td>31469372</td>\n",
       "      <td>R175VSRV6ZETOP</td>\n",
       "      <td>B00IKPYKWG</td>\n",
       "      <td>2693241</td>\n",
       "      <td>Fire HD 7, 7\" HD Display, Wi-Fi, 8 GB</td>\n",
       "      <td>PC</td>\n",
       "      <td>3</td>\n",
       "      <td>0</td>\n",
       "      <td>0</td>\n",
       "      <td>N</td>\n",
       "      <td>N</td>\n",
       "      <td>Lots of ads Slow processing speed Occasionally...</td>\n",
       "      <td>Lots of ads&lt;br /&gt;Slow processing speed&lt;br /&gt;Oc...</td>\n",
       "      <td>2015-08-31</td>\n",
       "      <td>0</td>\n",
       "    </tr>\n",
       "    <tr>\n",
       "      <th>2</th>\n",
       "      <td>US</td>\n",
       "      <td>26843895</td>\n",
       "      <td>R2HRFF78MWGY19</td>\n",
       "      <td>B00IKPW0UA</td>\n",
       "      <td>2693241</td>\n",
       "      <td>Fire HD 7, 7\" HD Display, Wi-Fi, 8 GB</td>\n",
       "      <td>PC</td>\n",
       "      <td>5</td>\n",
       "      <td>0</td>\n",
       "      <td>0</td>\n",
       "      <td>N</td>\n",
       "      <td>Y</td>\n",
       "      <td>Well thought out device</td>\n",
       "      <td>Excellent unit.  The versatility of this table...</td>\n",
       "      <td>2015-08-31</td>\n",
       "      <td>1</td>\n",
       "    </tr>\n",
       "    <tr>\n",
       "      <th>3</th>\n",
       "      <td>US</td>\n",
       "      <td>19844868</td>\n",
       "      <td>R8Q39WPKYVSTX</td>\n",
       "      <td>B00LCHSHMS</td>\n",
       "      <td>2693241</td>\n",
       "      <td>Fire HD 7, 7\" HD Display, Wi-Fi, 8 GB</td>\n",
       "      <td>PC</td>\n",
       "      <td>4</td>\n",
       "      <td>0</td>\n",
       "      <td>0</td>\n",
       "      <td>N</td>\n",
       "      <td>N</td>\n",
       "      <td>Not all apps/games we were looking forward to ...</td>\n",
       "      <td>I bought this on Amazon Prime so I ended up bu...</td>\n",
       "      <td>2015-08-31</td>\n",
       "      <td>1</td>\n",
       "    </tr>\n",
       "    <tr>\n",
       "      <th>4</th>\n",
       "      <td>US</td>\n",
       "      <td>1189852</td>\n",
       "      <td>R3RL4C8YP2ZCJL</td>\n",
       "      <td>B00IKPZ5V6</td>\n",
       "      <td>2693241</td>\n",
       "      <td>Fire HD 7, 7\" HD Display, Wi-Fi, 8 GB</td>\n",
       "      <td>PC</td>\n",
       "      <td>5</td>\n",
       "      <td>0</td>\n",
       "      <td>0</td>\n",
       "      <td>N</td>\n",
       "      <td>Y</td>\n",
       "      <td>Five Stars</td>\n",
       "      <td>All Amazon products continue to meet my expect...</td>\n",
       "      <td>2015-08-31</td>\n",
       "      <td>1</td>\n",
       "    </tr>\n",
       "    <tr>\n",
       "      <th>...</th>\n",
       "      <td>...</td>\n",
       "      <td>...</td>\n",
       "      <td>...</td>\n",
       "      <td>...</td>\n",
       "      <td>...</td>\n",
       "      <td>...</td>\n",
       "      <td>...</td>\n",
       "      <td>...</td>\n",
       "      <td>...</td>\n",
       "      <td>...</td>\n",
       "      <td>...</td>\n",
       "      <td>...</td>\n",
       "      <td>...</td>\n",
       "      <td>...</td>\n",
       "      <td>...</td>\n",
       "      <td>...</td>\n",
       "    </tr>\n",
       "    <tr>\n",
       "      <th>30841</th>\n",
       "      <td>US</td>\n",
       "      <td>44834233</td>\n",
       "      <td>R366C7ARIWLN7R</td>\n",
       "      <td>B00IKPW0UA</td>\n",
       "      <td>2693241</td>\n",
       "      <td>Fire HD 7, 7\" HD Display, Wi-Fi, 8 GB</td>\n",
       "      <td>PC</td>\n",
       "      <td>5</td>\n",
       "      <td>3720</td>\n",
       "      <td>3875</td>\n",
       "      <td>N</td>\n",
       "      <td>Y</td>\n",
       "      <td>A great upgrade for me from an older Kindle Fire!</td>\n",
       "      <td>[[VIDEOID:moP3B6GS5RL8LY]]I purchased the orig...</td>\n",
       "      <td>2014-10-03</td>\n",
       "      <td>1</td>\n",
       "    </tr>\n",
       "    <tr>\n",
       "      <th>30842</th>\n",
       "      <td>US</td>\n",
       "      <td>13376158</td>\n",
       "      <td>R35PL0AOCUXLU9</td>\n",
       "      <td>B00IKPYKWG</td>\n",
       "      <td>2693241</td>\n",
       "      <td>Fire HD 7, 7\" HD Display, Wi-Fi, 8 GB</td>\n",
       "      <td>PC</td>\n",
       "      <td>5</td>\n",
       "      <td>2716</td>\n",
       "      <td>2849</td>\n",
       "      <td>N</td>\n",
       "      <td>Y</td>\n",
       "      <td>Great Value for $139</td>\n",
       "      <td>I'm writing this review with the benefit of be...</td>\n",
       "      <td>2014-10-03</td>\n",
       "      <td>1</td>\n",
       "    </tr>\n",
       "    <tr>\n",
       "      <th>30843</th>\n",
       "      <td>US</td>\n",
       "      <td>40485963</td>\n",
       "      <td>R18ZJVY86AUFII</td>\n",
       "      <td>B00KC6XV58</td>\n",
       "      <td>2693241</td>\n",
       "      <td>Fire HD 7, 7\" HD Display, Wi-Fi, 8 GB</td>\n",
       "      <td>PC</td>\n",
       "      <td>5</td>\n",
       "      <td>1525</td>\n",
       "      <td>1629</td>\n",
       "      <td>N</td>\n",
       "      <td>Y</td>\n",
       "      <td>Even grandma has it figured out!</td>\n",
       "      <td>I purchased this Kindle for my grandma, becaus...</td>\n",
       "      <td>2014-10-03</td>\n",
       "      <td>1</td>\n",
       "    </tr>\n",
       "    <tr>\n",
       "      <th>30844</th>\n",
       "      <td>US</td>\n",
       "      <td>33485035</td>\n",
       "      <td>R36QVLQXMCZRSJ</td>\n",
       "      <td>B00IKPYKWG</td>\n",
       "      <td>2693241</td>\n",
       "      <td>Fire HD 7, 7\" HD Display, Wi-Fi, 8 GB</td>\n",
       "      <td>PC</td>\n",
       "      <td>4</td>\n",
       "      <td>143</td>\n",
       "      <td>163</td>\n",
       "      <td>N</td>\n",
       "      <td>Y</td>\n",
       "      <td>The Honda Accord of Tablets</td>\n",
       "      <td>I bought my tablet Fire HD 7 at Best Buy on th...</td>\n",
       "      <td>2014-10-03</td>\n",
       "      <td>1</td>\n",
       "    </tr>\n",
       "    <tr>\n",
       "      <th>30845</th>\n",
       "      <td>US</td>\n",
       "      <td>7015231</td>\n",
       "      <td>R1MWVQUDBUADGE</td>\n",
       "      <td>B00IKPYKWG</td>\n",
       "      <td>2693241</td>\n",
       "      <td>Fire HD 7, 7\" HD Display, Wi-Fi, 8 GB</td>\n",
       "      <td>PC</td>\n",
       "      <td>5</td>\n",
       "      <td>2</td>\n",
       "      <td>10</td>\n",
       "      <td>N</td>\n",
       "      <td>N</td>\n",
       "      <td>won't regret it</td>\n",
       "      <td>Am impressive piece of hardware for the $. No ...</td>\n",
       "      <td>2014-10-03</td>\n",
       "      <td>1</td>\n",
       "    </tr>\n",
       "  </tbody>\n",
       "</table>\n",
       "<p>30846 rows × 16 columns</p>\n",
       "</div>"
      ],
      "text/plain": [
       "      marketplace  customer_id       review_id  product_id  product_parent  \\\n",
       "0              US     11555559  R1QXC7AHHJBQ3O  B00IKPX4GY         2693241   \n",
       "1              US     31469372  R175VSRV6ZETOP  B00IKPYKWG         2693241   \n",
       "2              US     26843895  R2HRFF78MWGY19  B00IKPW0UA         2693241   \n",
       "3              US     19844868   R8Q39WPKYVSTX  B00LCHSHMS         2693241   \n",
       "4              US      1189852  R3RL4C8YP2ZCJL  B00IKPZ5V6         2693241   \n",
       "...           ...          ...             ...         ...             ...   \n",
       "30841          US     44834233  R366C7ARIWLN7R  B00IKPW0UA         2693241   \n",
       "30842          US     13376158  R35PL0AOCUXLU9  B00IKPYKWG         2693241   \n",
       "30843          US     40485963  R18ZJVY86AUFII  B00KC6XV58         2693241   \n",
       "30844          US     33485035  R36QVLQXMCZRSJ  B00IKPYKWG         2693241   \n",
       "30845          US      7015231  R1MWVQUDBUADGE  B00IKPYKWG         2693241   \n",
       "\n",
       "                               product_title product_category  star_rating  \\\n",
       "0      Fire HD 7, 7\" HD Display, Wi-Fi, 8 GB               PC            5   \n",
       "1      Fire HD 7, 7\" HD Display, Wi-Fi, 8 GB               PC            3   \n",
       "2      Fire HD 7, 7\" HD Display, Wi-Fi, 8 GB               PC            5   \n",
       "3      Fire HD 7, 7\" HD Display, Wi-Fi, 8 GB               PC            4   \n",
       "4      Fire HD 7, 7\" HD Display, Wi-Fi, 8 GB               PC            5   \n",
       "...                                      ...              ...          ...   \n",
       "30841  Fire HD 7, 7\" HD Display, Wi-Fi, 8 GB               PC            5   \n",
       "30842  Fire HD 7, 7\" HD Display, Wi-Fi, 8 GB               PC            5   \n",
       "30843  Fire HD 7, 7\" HD Display, Wi-Fi, 8 GB               PC            5   \n",
       "30844  Fire HD 7, 7\" HD Display, Wi-Fi, 8 GB               PC            4   \n",
       "30845  Fire HD 7, 7\" HD Display, Wi-Fi, 8 GB               PC            5   \n",
       "\n",
       "       helpful_votes  total_votes vine verified_purchase  \\\n",
       "0                  0            0    N                 Y   \n",
       "1                  0            0    N                 N   \n",
       "2                  0            0    N                 Y   \n",
       "3                  0            0    N                 N   \n",
       "4                  0            0    N                 Y   \n",
       "...              ...          ...  ...               ...   \n",
       "30841           3720         3875    N                 Y   \n",
       "30842           2716         2849    N                 Y   \n",
       "30843           1525         1629    N                 Y   \n",
       "30844            143          163    N                 Y   \n",
       "30845              2           10    N                 N   \n",
       "\n",
       "                                         review_headline  \\\n",
       "0                                             Five Stars   \n",
       "1      Lots of ads Slow processing speed Occasionally...   \n",
       "2                                Well thought out device   \n",
       "3      Not all apps/games we were looking forward to ...   \n",
       "4                                             Five Stars   \n",
       "...                                                  ...   \n",
       "30841  A great upgrade for me from an older Kindle Fire!   \n",
       "30842                               Great Value for $139   \n",
       "30843                   Even grandma has it figured out!   \n",
       "30844                        The Honda Accord of Tablets   \n",
       "30845                                    won't regret it   \n",
       "\n",
       "                                             review_body review_date  \\\n",
       "0                                          Great love it  2015-08-31   \n",
       "1      Lots of ads<br />Slow processing speed<br />Oc...  2015-08-31   \n",
       "2      Excellent unit.  The versatility of this table...  2015-08-31   \n",
       "3      I bought this on Amazon Prime so I ended up bu...  2015-08-31   \n",
       "4      All Amazon products continue to meet my expect...  2015-08-31   \n",
       "...                                                  ...         ...   \n",
       "30841  [[VIDEOID:moP3B6GS5RL8LY]]I purchased the orig...  2014-10-03   \n",
       "30842  I'm writing this review with the benefit of be...  2014-10-03   \n",
       "30843  I purchased this Kindle for my grandma, becaus...  2014-10-03   \n",
       "30844  I bought my tablet Fire HD 7 at Best Buy on th...  2014-10-03   \n",
       "30845  Am impressive piece of hardware for the $. No ...  2014-10-03   \n",
       "\n",
       "       sentiment  \n",
       "0              1  \n",
       "1              0  \n",
       "2              1  \n",
       "3              1  \n",
       "4              1  \n",
       "...          ...  \n",
       "30841          1  \n",
       "30842          1  \n",
       "30843          1  \n",
       "30844          1  \n",
       "30845          1  \n",
       "\n",
       "[30846 rows x 16 columns]"
      ]
     },
     "execution_count": 9,
     "metadata": {},
     "output_type": "execute_result"
    }
   ],
   "source": [
    "# choose a particular product for analysis\n",
    "prod_hosa = data.loc[data[\"product_title\"]=='Fire HD 7, 7\" HD Display, Wi-Fi, 8 GB']\n",
    "prod_hosa"
   ]
  },
  {
   "cell_type": "code",
   "execution_count": 10,
   "id": "857794de",
   "metadata": {
    "execution": {
     "iopub.execute_input": "2023-08-17T19:56:39.335685Z",
     "iopub.status.busy": "2023-08-17T19:56:39.334820Z",
     "iopub.status.idle": "2023-08-17T19:56:39.348524Z",
     "shell.execute_reply": "2023-08-17T19:56:39.347391Z"
    },
    "papermill": {
     "duration": 0.03529,
     "end_time": "2023-08-17T19:56:39.352253",
     "exception": false,
     "start_time": "2023-08-17T19:56:39.316963",
     "status": "completed"
    },
    "tags": []
   },
   "outputs": [],
   "source": [
    "# #split data-set to train and test\n",
    "\n",
    "X = prod_hosa['review_body']\n",
    "Y = prod_hosa['sentiment']\n",
    "\n",
    "X_train, X_test, Y_train, Y_test = train_test_split(X, Y, test_size = 0.2, random_state=42)"
   ]
  },
  {
   "cell_type": "code",
   "execution_count": 11,
   "id": "cafbbfd8",
   "metadata": {
    "execution": {
     "iopub.execute_input": "2023-08-17T19:56:39.393684Z",
     "iopub.status.busy": "2023-08-17T19:56:39.392793Z",
     "iopub.status.idle": "2023-08-17T19:56:39.398912Z",
     "shell.execute_reply": "2023-08-17T19:56:39.398000Z"
    },
    "papermill": {
     "duration": 0.032468,
     "end_time": "2023-08-17T19:56:39.401553",
     "exception": false,
     "start_time": "2023-08-17T19:56:39.369085",
     "status": "completed"
    },
    "tags": []
   },
   "outputs": [],
   "source": [
    "# function to remove html elements from the reviews\n",
    "def removeHTML(raw_text):\n",
    "    clean_HTML = BeautifulSoup(raw_text, 'lxml').get_text() \n",
    "    return clean_HTML"
   ]
  },
  {
   "cell_type": "code",
   "execution_count": 12,
   "id": "179a34f5",
   "metadata": {
    "execution": {
     "iopub.execute_input": "2023-08-17T19:56:39.444381Z",
     "iopub.status.busy": "2023-08-17T19:56:39.442651Z",
     "iopub.status.idle": "2023-08-17T19:56:39.448962Z",
     "shell.execute_reply": "2023-08-17T19:56:39.447989Z"
    },
    "papermill": {
     "duration": 0.02926,
     "end_time": "2023-08-17T19:56:39.451312",
     "exception": false,
     "start_time": "2023-08-17T19:56:39.422052",
     "status": "completed"
    },
    "tags": []
   },
   "outputs": [],
   "source": [
    "# function to remove special characters and numbers from the reviews4961\n",
    "def removeSpecialChar(raw_text):\n",
    "    clean_SpecialChar = re.sub(\"[^a-zA-Z]\", \" \", raw_text)  \n",
    "    return clean_SpecialChar"
   ]
  },
  {
   "cell_type": "code",
   "execution_count": 13,
   "id": "a3bd9e43",
   "metadata": {
    "execution": {
     "iopub.execute_input": "2023-08-17T19:56:39.486293Z",
     "iopub.status.busy": "2023-08-17T19:56:39.485562Z",
     "iopub.status.idle": "2023-08-17T19:56:39.492258Z",
     "shell.execute_reply": "2023-08-17T19:56:39.491312Z"
    },
    "papermill": {
     "duration": 0.027534,
     "end_time": "2023-08-17T19:56:39.494849",
     "exception": false,
     "start_time": "2023-08-17T19:56:39.467315",
     "status": "completed"
    },
    "tags": []
   },
   "outputs": [],
   "source": [
    "# function to convert all reviews into lower case\n",
    "def toLowerCase(raw_text):\n",
    "    clean_LowerCase = raw_text.lower().split()\n",
    "    return( \" \".join(clean_LowerCase))  "
   ]
  },
  {
   "cell_type": "code",
   "execution_count": 14,
   "id": "eb3933fd",
   "metadata": {
    "execution": {
     "iopub.execute_input": "2023-08-17T19:56:39.528877Z",
     "iopub.status.busy": "2023-08-17T19:56:39.528002Z",
     "iopub.status.idle": "2023-08-17T19:56:39.534243Z",
     "shell.execute_reply": "2023-08-17T19:56:39.533295Z"
    },
    "papermill": {
     "duration": 0.026033,
     "end_time": "2023-08-17T19:56:39.536728",
     "exception": false,
     "start_time": "2023-08-17T19:56:39.510695",
     "status": "completed"
    },
    "tags": []
   },
   "outputs": [],
   "source": [
    "# function to remove stop words from the reviews\n",
    "def removeStopWords(raw_text):\n",
    "    stops = set(stopwords.words(\"english\"))\n",
    "    words = [w for w in raw_text if not w in stops]\n",
    "    return( \" \".join(words))"
   ]
  },
  {
   "cell_type": "code",
   "execution_count": 15,
   "id": "2c1243d6",
   "metadata": {
    "execution": {
     "iopub.execute_input": "2023-08-17T19:56:39.580205Z",
     "iopub.status.busy": "2023-08-17T19:56:39.579409Z",
     "iopub.status.idle": "2023-08-17T19:56:52.843483Z",
     "shell.execute_reply": "2023-08-17T19:56:52.842274Z"
    },
    "papermill": {
     "duration": 13.28846,
     "end_time": "2023-08-17T19:56:52.846616",
     "exception": false,
     "start_time": "2023-08-17T19:56:39.558156",
     "status": "completed"
    },
    "tags": []
   },
   "outputs": [
    {
     "name": "stderr",
     "output_type": "stream",
     "text": [
      "/tmp/ipykernel_20/3357511827.py:3: MarkupResemblesLocatorWarning: The input looks more like a filename than markup. You may want to open this file and pass the filehandle into Beautiful Soup.\n",
      "  clean_HTML = BeautifulSoup(raw_text, 'lxml').get_text()\n"
     ]
    }
   ],
   "source": [
    "# X_training clean set\n",
    "X_train_cleaned = []\n",
    "\n",
    "for val in X_train:\n",
    "    val = removeHTML(val)\n",
    "    val = removeSpecialChar(val)\n",
    "    val = toLowerCase(val)\n",
    "    removeStopWords(val) \n",
    "    X_train_cleaned.append(val) "
   ]
  },
  {
   "cell_type": "code",
   "execution_count": 16,
   "id": "533a54f3",
   "metadata": {
    "execution": {
     "iopub.execute_input": "2023-08-17T19:56:52.880246Z",
     "iopub.status.busy": "2023-08-17T19:56:52.879795Z",
     "iopub.status.idle": "2023-08-17T19:56:56.430326Z",
     "shell.execute_reply": "2023-08-17T19:56:56.428899Z"
    },
    "papermill": {
     "duration": 3.571236,
     "end_time": "2023-08-17T19:56:56.433836",
     "exception": false,
     "start_time": "2023-08-17T19:56:52.862600",
     "status": "completed"
    },
    "tags": []
   },
   "outputs": [
    {
     "name": "stderr",
     "output_type": "stream",
     "text": [
      "/tmp/ipykernel_20/3357511827.py:3: MarkupResemblesLocatorWarning: The input looks more like a filename than markup. You may want to open this file and pass the filehandle into Beautiful Soup.\n",
      "  clean_HTML = BeautifulSoup(raw_text, 'lxml').get_text()\n"
     ]
    }
   ],
   "source": [
    "# X_testing clean set\n",
    "X_test_cleaned = []\n",
    "\n",
    "for val in X_test:\n",
    "    val = removeHTML(val)\n",
    "    val = removeSpecialChar(val)\n",
    "    val = toLowerCase(val)\n",
    "    removeStopWords(val)\n",
    "    X_test_cleaned.append(val) "
   ]
  },
  {
   "cell_type": "code",
   "execution_count": 17,
   "id": "a1077f3d",
   "metadata": {
    "execution": {
     "iopub.execute_input": "2023-08-17T19:56:56.472418Z",
     "iopub.status.busy": "2023-08-17T19:56:56.471972Z",
     "iopub.status.idle": "2023-08-17T19:56:57.683238Z",
     "shell.execute_reply": "2023-08-17T19:56:57.681912Z"
    },
    "papermill": {
     "duration": 1.233245,
     "end_time": "2023-08-17T19:56:57.686173",
     "exception": false,
     "start_time": "2023-08-17T19:56:56.452928",
     "status": "completed"
    },
    "tags": []
   },
   "outputs": [],
   "source": [
    "# Convert a collection of raw documents to a matrix of TF-IDF features. This is required so as to train the model using features instead of \n",
    "# raw strings.\n",
    "tvec = TfidfVectorizer(use_idf=True,\n",
    "strip_accents='ascii')\n",
    "\n",
    "X_train_tvec = tvec.fit_transform(X_train_cleaned)"
   ]
  },
  {
   "cell_type": "code",
   "execution_count": 18,
   "id": "2f422fcb",
   "metadata": {
    "execution": {
     "iopub.execute_input": "2023-08-17T19:56:57.719858Z",
     "iopub.status.busy": "2023-08-17T19:56:57.719411Z",
     "iopub.status.idle": "2023-08-17T19:56:58.577111Z",
     "shell.execute_reply": "2023-08-17T19:56:58.575457Z"
    },
    "papermill": {
     "duration": 0.879306,
     "end_time": "2023-08-17T19:56:58.581421",
     "exception": false,
     "start_time": "2023-08-17T19:56:57.702115",
     "status": "completed"
    },
    "tags": []
   },
   "outputs": [
    {
     "data": {
      "text/html": [
       "<style>#sk-container-id-1 {color: black;background-color: white;}#sk-container-id-1 pre{padding: 0;}#sk-container-id-1 div.sk-toggleable {background-color: white;}#sk-container-id-1 label.sk-toggleable__label {cursor: pointer;display: block;width: 100%;margin-bottom: 0;padding: 0.3em;box-sizing: border-box;text-align: center;}#sk-container-id-1 label.sk-toggleable__label-arrow:before {content: \"▸\";float: left;margin-right: 0.25em;color: #696969;}#sk-container-id-1 label.sk-toggleable__label-arrow:hover:before {color: black;}#sk-container-id-1 div.sk-estimator:hover label.sk-toggleable__label-arrow:before {color: black;}#sk-container-id-1 div.sk-toggleable__content {max-height: 0;max-width: 0;overflow: hidden;text-align: left;background-color: #f0f8ff;}#sk-container-id-1 div.sk-toggleable__content pre {margin: 0.2em;color: black;border-radius: 0.25em;background-color: #f0f8ff;}#sk-container-id-1 input.sk-toggleable__control:checked~div.sk-toggleable__content {max-height: 200px;max-width: 100%;overflow: auto;}#sk-container-id-1 input.sk-toggleable__control:checked~label.sk-toggleable__label-arrow:before {content: \"▾\";}#sk-container-id-1 div.sk-estimator input.sk-toggleable__control:checked~label.sk-toggleable__label {background-color: #d4ebff;}#sk-container-id-1 div.sk-label input.sk-toggleable__control:checked~label.sk-toggleable__label {background-color: #d4ebff;}#sk-container-id-1 input.sk-hidden--visually {border: 0;clip: rect(1px 1px 1px 1px);clip: rect(1px, 1px, 1px, 1px);height: 1px;margin: -1px;overflow: hidden;padding: 0;position: absolute;width: 1px;}#sk-container-id-1 div.sk-estimator {font-family: monospace;background-color: #f0f8ff;border: 1px dotted black;border-radius: 0.25em;box-sizing: border-box;margin-bottom: 0.5em;}#sk-container-id-1 div.sk-estimator:hover {background-color: #d4ebff;}#sk-container-id-1 div.sk-parallel-item::after {content: \"\";width: 100%;border-bottom: 1px solid gray;flex-grow: 1;}#sk-container-id-1 div.sk-label:hover label.sk-toggleable__label {background-color: #d4ebff;}#sk-container-id-1 div.sk-serial::before {content: \"\";position: absolute;border-left: 1px solid gray;box-sizing: border-box;top: 0;bottom: 0;left: 50%;z-index: 0;}#sk-container-id-1 div.sk-serial {display: flex;flex-direction: column;align-items: center;background-color: white;padding-right: 0.2em;padding-left: 0.2em;position: relative;}#sk-container-id-1 div.sk-item {position: relative;z-index: 1;}#sk-container-id-1 div.sk-parallel {display: flex;align-items: stretch;justify-content: center;background-color: white;position: relative;}#sk-container-id-1 div.sk-item::before, #sk-container-id-1 div.sk-parallel-item::before {content: \"\";position: absolute;border-left: 1px solid gray;box-sizing: border-box;top: 0;bottom: 0;left: 50%;z-index: -1;}#sk-container-id-1 div.sk-parallel-item {display: flex;flex-direction: column;z-index: 1;position: relative;background-color: white;}#sk-container-id-1 div.sk-parallel-item:first-child::after {align-self: flex-end;width: 50%;}#sk-container-id-1 div.sk-parallel-item:last-child::after {align-self: flex-start;width: 50%;}#sk-container-id-1 div.sk-parallel-item:only-child::after {width: 0;}#sk-container-id-1 div.sk-dashed-wrapped {border: 1px dashed gray;margin: 0 0.4em 0.5em 0.4em;box-sizing: border-box;padding-bottom: 0.4em;background-color: white;}#sk-container-id-1 div.sk-label label {font-family: monospace;font-weight: bold;display: inline-block;line-height: 1.2em;}#sk-container-id-1 div.sk-label-container {text-align: center;}#sk-container-id-1 div.sk-container {/* jupyter's `normalize.less` sets `[hidden] { display: none; }` but bootstrap.min.css set `[hidden] { display: none !important; }` so we also need the `!important` here to be able to override the default hidden behavior on the sphinx rendered scikit-learn.org. See: https://github.com/scikit-learn/scikit-learn/issues/21755 */display: inline-block !important;position: relative;}#sk-container-id-1 div.sk-text-repr-fallback {display: none;}</style><div id=\"sk-container-id-1\" class=\"sk-top-container\"><div class=\"sk-text-repr-fallback\"><pre>LinearSVC(dual=False)</pre><b>In a Jupyter environment, please rerun this cell to show the HTML representation or trust the notebook. <br />On GitHub, the HTML representation is unable to render, please try loading this page with nbviewer.org.</b></div><div class=\"sk-container\" hidden><div class=\"sk-item\"><div class=\"sk-estimator sk-toggleable\"><input class=\"sk-toggleable__control sk-hidden--visually\" id=\"sk-estimator-id-1\" type=\"checkbox\" checked><label for=\"sk-estimator-id-1\" class=\"sk-toggleable__label sk-toggleable__label-arrow\">LinearSVC</label><div class=\"sk-toggleable__content\"><pre>LinearSVC(dual=False)</pre></div></div></div></div></div>"
      ],
      "text/plain": [
       "LinearSVC(dual=False)"
      ]
     },
     "execution_count": 18,
     "metadata": {},
     "output_type": "execute_result"
    }
   ],
   "source": [
    "# Support Vector Classifier model\n",
    "svr_lin = LinearSVC(multi_class='ovr',C=1.0,loss='squared_hinge', dual=False)\n",
    "svr_lin.fit(X_train_tvec, Y_train)"
   ]
  },
  {
   "cell_type": "code",
   "execution_count": 19,
   "id": "4ad446a6",
   "metadata": {
    "execution": {
     "iopub.execute_input": "2023-08-17T19:56:58.654509Z",
     "iopub.status.busy": "2023-08-17T19:56:58.653743Z",
     "iopub.status.idle": "2023-08-17T19:56:59.071993Z",
     "shell.execute_reply": "2023-08-17T19:56:59.067376Z"
    },
    "papermill": {
     "duration": 0.459617,
     "end_time": "2023-08-17T19:56:59.075436",
     "exception": false,
     "start_time": "2023-08-17T19:56:58.615819",
     "status": "completed"
    },
    "tags": []
   },
   "outputs": [
    {
     "data": {
      "text/html": [
       "<style type=\"text/css\">\n",
       "#T_d87f8_row0_col0, #T_d87f8_row0_col1, #T_d87f8_row0_col2, #T_d87f8_row2_col3 {\n",
       "  background-color: #f2f2dd;\n",
       "  color: #000000;\n",
       "}\n",
       "#T_d87f8_row0_col3 {\n",
       "  background-color: #f4f4b9;\n",
       "  color: #000000;\n",
       "}\n",
       "#T_d87f8_row1_col0, #T_d87f8_row1_col1, #T_d87f8_row1_col2, #T_d87f8_row3_col3, #T_d87f8_row4_col3 {\n",
       "  background-color: #ffff00;\n",
       "  color: #000000;\n",
       "}\n",
       "#T_d87f8_row1_col3 {\n",
       "  background-color: #fdfd24;\n",
       "  color: #000000;\n",
       "}\n",
       "#T_d87f8_row2_col0 {\n",
       "  background-color: #fdfd1c;\n",
       "  color: #000000;\n",
       "}\n",
       "#T_d87f8_row2_col1, #T_d87f8_row4_col1 {\n",
       "  background-color: #fdfd21;\n",
       "  color: #000000;\n",
       "}\n",
       "#T_d87f8_row2_col2 {\n",
       "  background-color: #fdfd23;\n",
       "  color: #000000;\n",
       "}\n",
       "#T_d87f8_row3_col0 {\n",
       "  background-color: #f8f86f;\n",
       "  color: #000000;\n",
       "}\n",
       "#T_d87f8_row3_col1 {\n",
       "  background-color: #f9f96c;\n",
       "  color: #000000;\n",
       "}\n",
       "#T_d87f8_row3_col2 {\n",
       "  background-color: #f8f873;\n",
       "  color: #000000;\n",
       "}\n",
       "#T_d87f8_row4_col0 {\n",
       "  background-color: #fdfd2a;\n",
       "  color: #000000;\n",
       "}\n",
       "#T_d87f8_row4_col2 {\n",
       "  background-color: #fcfc2c;\n",
       "  color: #000000;\n",
       "}\n",
       "</style>\n",
       "<table id=\"T_d87f8\">\n",
       "  <thead>\n",
       "    <tr>\n",
       "      <th class=\"blank level0\" >&nbsp;</th>\n",
       "      <th id=\"T_d87f8_level0_col0\" class=\"col_heading level0 col0\" >precision</th>\n",
       "      <th id=\"T_d87f8_level0_col1\" class=\"col_heading level0 col1\" >recall</th>\n",
       "      <th id=\"T_d87f8_level0_col2\" class=\"col_heading level0 col2\" >f1-score</th>\n",
       "      <th id=\"T_d87f8_level0_col3\" class=\"col_heading level0 col3\" >support</th>\n",
       "    </tr>\n",
       "  </thead>\n",
       "  <tbody>\n",
       "    <tr>\n",
       "      <th id=\"T_d87f8_level0_row0\" class=\"row_heading level0 row0\" >0</th>\n",
       "      <td id=\"T_d87f8_row0_col0\" class=\"data row0 col0\" >0.770000</td>\n",
       "      <td id=\"T_d87f8_row0_col1\" class=\"data row0 col1\" >0.630000</td>\n",
       "      <td id=\"T_d87f8_row0_col2\" class=\"data row0 col2\" >0.700000</td>\n",
       "      <td id=\"T_d87f8_row0_col3\" class=\"data row0 col3\" >1018.000000</td>\n",
       "    </tr>\n",
       "    <tr>\n",
       "      <th id=\"T_d87f8_level0_row1\" class=\"row_heading level0 row1\" >1</th>\n",
       "      <td id=\"T_d87f8_row1_col0\" class=\"data row1 col0\" >0.930000</td>\n",
       "      <td id=\"T_d87f8_row1_col1\" class=\"data row1 col1\" >0.960000</td>\n",
       "      <td id=\"T_d87f8_row1_col2\" class=\"data row1 col2\" >0.950000</td>\n",
       "      <td id=\"T_d87f8_row1_col3\" class=\"data row1 col3\" >5152.000000</td>\n",
       "    </tr>\n",
       "    <tr>\n",
       "      <th id=\"T_d87f8_level0_row2\" class=\"row_heading level0 row2\" >accuracy</th>\n",
       "      <td id=\"T_d87f8_row2_col0\" class=\"data row2 col0\" >0.910000</td>\n",
       "      <td id=\"T_d87f8_row2_col1\" class=\"data row2 col1\" >0.910000</td>\n",
       "      <td id=\"T_d87f8_row2_col2\" class=\"data row2 col2\" >0.910000</td>\n",
       "      <td id=\"T_d87f8_row2_col3\" class=\"data row2 col3\" >0.910000</td>\n",
       "    </tr>\n",
       "    <tr>\n",
       "      <th id=\"T_d87f8_level0_row3\" class=\"row_heading level0 row3\" >macro avg</th>\n",
       "      <td id=\"T_d87f8_row3_col0\" class=\"data row3 col0\" >0.850000</td>\n",
       "      <td id=\"T_d87f8_row3_col1\" class=\"data row3 col1\" >0.800000</td>\n",
       "      <td id=\"T_d87f8_row3_col2\" class=\"data row3 col2\" >0.820000</td>\n",
       "      <td id=\"T_d87f8_row3_col3\" class=\"data row3 col3\" >6170.000000</td>\n",
       "    </tr>\n",
       "    <tr>\n",
       "      <th id=\"T_d87f8_level0_row4\" class=\"row_heading level0 row4\" >weighted avg</th>\n",
       "      <td id=\"T_d87f8_row4_col0\" class=\"data row4 col0\" >0.900000</td>\n",
       "      <td id=\"T_d87f8_row4_col1\" class=\"data row4 col1\" >0.910000</td>\n",
       "      <td id=\"T_d87f8_row4_col2\" class=\"data row4 col2\" >0.900000</td>\n",
       "      <td id=\"T_d87f8_row4_col3\" class=\"data row4 col3\" >6170.000000</td>\n",
       "    </tr>\n",
       "  </tbody>\n",
       "</table>\n"
      ],
      "text/plain": [
       "<pandas.io.formats.style.Styler at 0x78d76cd1f850>"
      ]
     },
     "execution_count": 19,
     "metadata": {},
     "output_type": "execute_result"
    }
   ],
   "source": [
    "# Predict using training and testing data and display the accuracy, f-1 score, precision for Positive and Negative Sentiment Classifiers \n",
    "svr_lin_predictions = svr_lin.predict(tvec.transform(X_test_cleaned))\n",
    "report = classification_report(Y_test,svr_lin_predictions, output_dict=True)\n",
    "data_report = pd.DataFrame(report).transpose().round(2)\n",
    "cm = sns.light_palette(\"yellow\", as_cmap=True)\n",
    "data_report.style.background_gradient(cmap=cm)"
   ]
  },
  {
   "cell_type": "code",
   "execution_count": 20,
   "id": "568c5e37",
   "metadata": {
    "execution": {
     "iopub.execute_input": "2023-08-17T19:56:59.112605Z",
     "iopub.status.busy": "2023-08-17T19:56:59.112182Z",
     "iopub.status.idle": "2023-08-17T19:56:59.774579Z",
     "shell.execute_reply": "2023-08-17T19:56:59.773324Z"
    },
    "papermill": {
     "duration": 0.684598,
     "end_time": "2023-08-17T19:56:59.777366",
     "exception": false,
     "start_time": "2023-08-17T19:56:59.092768",
     "status": "completed"
    },
    "tags": []
   },
   "outputs": [
    {
     "data": {
      "image/png": "[encoded data removed]",
      "text/plain": [
       "<Figure size 640x480 with 2 Axes>"
      ]
     },
     "metadata": {},
     "output_type": "display_data"
    }
   ],
   "source": [
    "# confusion matrix\n",
    "svr_lin_predictions=svr_lin.predict(tvec.transform(X_test_cleaned))\n",
    "ax= plt.subplot()\n",
    "cm=confusion_matrix(Y_test,svr_lin_predictions)\n",
    "sns.heatmap(cm, annot=True, fmt='g', ax=ax,cmap='Greens');  \n",
    "ax.set_xlabel('Predicted labels');ax.set_ylabel('True labels');\n",
    "ax.set_title('Confusion Matrix');\n",
    "ax.xaxis.set_ticklabels(['negative', 'positive']); ax.yaxis.set_ticklabels(['negative', 'positive']);"
   ]
  },
  {
   "cell_type": "code",
   "execution_count": 21,
   "id": "08540871",
   "metadata": {
    "execution": {
     "iopub.execute_input": "2023-08-17T19:56:59.814132Z",
     "iopub.status.busy": "2023-08-17T19:56:59.813687Z",
     "iopub.status.idle": "2023-08-17T19:56:59.824427Z",
     "shell.execute_reply": "2023-08-17T19:56:59.822954Z"
    },
    "papermill": {
     "duration": 0.032384,
     "end_time": "2023-08-17T19:56:59.827364",
     "exception": false,
     "start_time": "2023-08-17T19:56:59.794980",
     "status": "completed"
    },
    "tags": []
   },
   "outputs": [
    {
     "name": "stdout",
     "output_type": "stream",
     "text": [
      "[0]\n"
     ]
    }
   ],
   "source": [
    "# testing the model with sample 'Negative' review\n",
    "demo_review = np.array(['three days of use and it broke very disappointed in this product it worked perfectly for exactly three days and could not be resuscitated it was very inexpensive so i did not want to pay half again the price to ship it back for an exchange so the company would do nothing when they sent me an inquiry as to product satisfaction'])\n",
    "demo_review_X_test = tvec.transform(demo_review)\n",
    "print(svr_lin.predict(demo_review_X_test))\n",
    "\n",
    "# expected output = 0 (Negative)\n",
    "# actual output = 0 (Negative)"
   ]
  },
  {
   "cell_type": "code",
   "execution_count": 22,
   "id": "f638cbe3",
   "metadata": {
    "execution": {
     "iopub.execute_input": "2023-08-17T19:56:59.864835Z",
     "iopub.status.busy": "2023-08-17T19:56:59.864370Z",
     "iopub.status.idle": "2023-08-17T19:56:59.875492Z",
     "shell.execute_reply": "2023-08-17T19:56:59.873963Z"
    },
    "papermill": {
     "duration": 0.033541,
     "end_time": "2023-08-17T19:56:59.878432",
     "exception": false,
     "start_time": "2023-08-17T19:56:59.844891",
     "status": "completed"
    },
    "tags": []
   },
   "outputs": [
    {
     "name": "stdout",
     "output_type": "stream",
     "text": [
      "[1]\n"
     ]
    }
   ],
   "source": [
    "# testing the model with sample 'Positive' review\n",
    "demo_review_2 = np.array(['Excellent product. Works well and performs as expected.'])\n",
    "demo_review_X_test_2 = tvec.transform(demo_review_2)\n",
    "print(svr_lin.predict(demo_review_X_test_2))\n",
    "\n",
    "# expected output = 1 (Positive)\n",
    "# actual output = 1 (Positive)"
   ]
  },
  {
   "cell_type": "code",
   "execution_count": 23,
   "id": "6443891f",
   "metadata": {
    "execution": {
     "iopub.execute_input": "2023-08-17T19:56:59.917851Z",
     "iopub.status.busy": "2023-08-17T19:56:59.917202Z",
     "iopub.status.idle": "2023-08-17T19:57:33.099896Z",
     "shell.execute_reply": "2023-08-17T19:57:33.098395Z"
    },
    "papermill": {
     "duration": 33.223819,
     "end_time": "2023-08-17T19:57:33.120442",
     "exception": false,
     "start_time": "2023-08-17T19:56:59.896623",
     "status": "completed"
    },
    "tags": []
   },
   "outputs": [
    {
     "data": {
      "text/html": [
       "<style>#sk-container-id-2 {color: black;background-color: white;}#sk-container-id-2 pre{padding: 0;}#sk-container-id-2 div.sk-toggleable {background-color: white;}#sk-container-id-2 label.sk-toggleable__label {cursor: pointer;display: block;width: 100%;margin-bottom: 0;padding: 0.3em;box-sizing: border-box;text-align: center;}#sk-container-id-2 label.sk-toggleable__label-arrow:before {content: \"▸\";float: left;margin-right: 0.25em;color: #696969;}#sk-container-id-2 label.sk-toggleable__label-arrow:hover:before {color: black;}#sk-container-id-2 div.sk-estimator:hover label.sk-toggleable__label-arrow:before {color: black;}#sk-container-id-2 div.sk-toggleable__content {max-height: 0;max-width: 0;overflow: hidden;text-align: left;background-color: #f0f8ff;}#sk-container-id-2 div.sk-toggleable__content pre {margin: 0.2em;color: black;border-radius: 0.25em;background-color: #f0f8ff;}#sk-container-id-2 input.sk-toggleable__control:checked~div.sk-toggleable__content {max-height: 200px;max-width: 100%;overflow: auto;}#sk-container-id-2 input.sk-toggleable__control:checked~label.sk-toggleable__label-arrow:before {content: \"▾\";}#sk-container-id-2 div.sk-estimator input.sk-toggleable__control:checked~label.sk-toggleable__label {background-color: #d4ebff;}#sk-container-id-2 div.sk-label input.sk-toggleable__control:checked~label.sk-toggleable__label {background-color: #d4ebff;}#sk-container-id-2 input.sk-hidden--visually {border: 0;clip: rect(1px 1px 1px 1px);clip: rect(1px, 1px, 1px, 1px);height: 1px;margin: -1px;overflow: hidden;padding: 0;position: absolute;width: 1px;}#sk-container-id-2 div.sk-estimator {font-family: monospace;background-color: #f0f8ff;border: 1px dotted black;border-radius: 0.25em;box-sizing: border-box;margin-bottom: 0.5em;}#sk-container-id-2 div.sk-estimator:hover {background-color: #d4ebff;}#sk-container-id-2 div.sk-parallel-item::after {content: \"\";width: 100%;border-bottom: 1px solid gray;flex-grow: 1;}#sk-container-id-2 div.sk-label:hover label.sk-toggleable__label {background-color: #d4ebff;}#sk-container-id-2 div.sk-serial::before {content: \"\";position: absolute;border-left: 1px solid gray;box-sizing: border-box;top: 0;bottom: 0;left: 50%;z-index: 0;}#sk-container-id-2 div.sk-serial {display: flex;flex-direction: column;align-items: center;background-color: white;padding-right: 0.2em;padding-left: 0.2em;position: relative;}#sk-container-id-2 div.sk-item {position: relative;z-index: 1;}#sk-container-id-2 div.sk-parallel {display: flex;align-items: stretch;justify-content: center;background-color: white;position: relative;}#sk-container-id-2 div.sk-item::before, #sk-container-id-2 div.sk-parallel-item::before {content: \"\";position: absolute;border-left: 1px solid gray;box-sizing: border-box;top: 0;bottom: 0;left: 50%;z-index: -1;}#sk-container-id-2 div.sk-parallel-item {display: flex;flex-direction: column;z-index: 1;position: relative;background-color: white;}#sk-container-id-2 div.sk-parallel-item:first-child::after {align-self: flex-end;width: 50%;}#sk-container-id-2 div.sk-parallel-item:last-child::after {align-self: flex-start;width: 50%;}#sk-container-id-2 div.sk-parallel-item:only-child::after {width: 0;}#sk-container-id-2 div.sk-dashed-wrapped {border: 1px dashed gray;margin: 0 0.4em 0.5em 0.4em;box-sizing: border-box;padding-bottom: 0.4em;background-color: white;}#sk-container-id-2 div.sk-label label {font-family: monospace;font-weight: bold;display: inline-block;line-height: 1.2em;}#sk-container-id-2 div.sk-label-container {text-align: center;}#sk-container-id-2 div.sk-container {/* jupyter's `normalize.less` sets `[hidden] { display: none; }` but bootstrap.min.css set `[hidden] { display: none !important; }` so we also need the `!important` here to be able to override the default hidden behavior on the sphinx rendered scikit-learn.org. See: https://github.com/scikit-learn/scikit-learn/issues/21755 */display: inline-block !important;position: relative;}#sk-container-id-2 div.sk-text-repr-fallback {display: none;}</style><div id=\"sk-container-id-2\" class=\"sk-top-container\"><div class=\"sk-text-repr-fallback\"><pre>RandomForestClassifier()</pre><b>In a Jupyter environment, please rerun this cell to show the HTML representation or trust the notebook. <br />On GitHub, the HTML representation is unable to render, please try loading this page with nbviewer.org.</b></div><div class=\"sk-container\" hidden><div class=\"sk-item\"><div class=\"sk-estimator sk-toggleable\"><input class=\"sk-toggleable__control sk-hidden--visually\" id=\"sk-estimator-id-2\" type=\"checkbox\" checked><label for=\"sk-estimator-id-2\" class=\"sk-toggleable__label sk-toggleable__label-arrow\">RandomForestClassifier</label><div class=\"sk-toggleable__content\"><pre>RandomForestClassifier()</pre></div></div></div></div></div>"
      ],
      "text/plain": [
       "RandomForestClassifier()"
      ]
     },
     "execution_count": 23,
     "metadata": {},
     "output_type": "execute_result"
    }
   ],
   "source": [
    "# Random Forest model\n",
    "random_forest = RandomForestClassifier()\n",
    "random_forest.fit(X_train_tvec, Y_train)"
   ]
  },
  {
   "cell_type": "code",
   "execution_count": 24,
   "id": "57e0de0d",
   "metadata": {
    "execution": {
     "iopub.execute_input": "2023-08-17T19:57:33.157461Z",
     "iopub.status.busy": "2023-08-17T19:57:33.156992Z",
     "iopub.status.idle": "2023-08-17T19:57:33.897536Z",
     "shell.execute_reply": "2023-08-17T19:57:33.896149Z"
    },
    "papermill": {
     "duration": 0.762197,
     "end_time": "2023-08-17T19:57:33.900198",
     "exception": false,
     "start_time": "2023-08-17T19:57:33.138001",
     "status": "completed"
    },
    "tags": []
   },
   "outputs": [
    {
     "data": {
      "text/html": [
       "<style type=\"text/css\">\n",
       "#T_ebb87_row0_col0, #T_ebb87_row0_col1, #T_ebb87_row0_col2, #T_ebb87_row2_col3 {\n",
       "  background-color: #f3f0f0;\n",
       "  color: #000000;\n",
       "}\n",
       "#T_ebb87_row0_col3 {\n",
       "  background-color: #f5c8c8;\n",
       "  color: #000000;\n",
       "}\n",
       "#T_ebb87_row1_col0, #T_ebb87_row1_col1, #T_ebb87_row1_col2, #T_ebb87_row3_col3, #T_ebb87_row4_col3 {\n",
       "  background-color: #ff0000;\n",
       "  color: #f1f1f1;\n",
       "}\n",
       "#T_ebb87_row1_col3, #T_ebb87_row2_col1, #T_ebb87_row4_col1 {\n",
       "  background-color: #fd2828;\n",
       "  color: #f1f1f1;\n",
       "}\n",
       "#T_ebb87_row2_col0, #T_ebb87_row4_col0 {\n",
       "  background-color: #fc3b3b;\n",
       "  color: #f1f1f1;\n",
       "}\n",
       "#T_ebb87_row2_col2 {\n",
       "  background-color: #fe1c1c;\n",
       "  color: #f1f1f1;\n",
       "}\n",
       "#T_ebb87_row3_col0, #T_ebb87_row3_col2 {\n",
       "  background-color: #f97878;\n",
       "  color: #f1f1f1;\n",
       "}\n",
       "#T_ebb87_row3_col1 {\n",
       "  background-color: #f97777;\n",
       "  color: #f1f1f1;\n",
       "}\n",
       "#T_ebb87_row4_col2 {\n",
       "  background-color: #fd2626;\n",
       "  color: #f1f1f1;\n",
       "}\n",
       "</style>\n",
       "<table id=\"T_ebb87\">\n",
       "  <thead>\n",
       "    <tr>\n",
       "      <th class=\"blank level0\" >&nbsp;</th>\n",
       "      <th id=\"T_ebb87_level0_col0\" class=\"col_heading level0 col0\" >precision</th>\n",
       "      <th id=\"T_ebb87_level0_col1\" class=\"col_heading level0 col1\" >recall</th>\n",
       "      <th id=\"T_ebb87_level0_col2\" class=\"col_heading level0 col2\" >f1-score</th>\n",
       "      <th id=\"T_ebb87_level0_col3\" class=\"col_heading level0 col3\" >support</th>\n",
       "    </tr>\n",
       "  </thead>\n",
       "  <tbody>\n",
       "    <tr>\n",
       "      <th id=\"T_ebb87_level0_row0\" class=\"row_heading level0 row0\" >0</th>\n",
       "      <td id=\"T_ebb87_row0_col0\" class=\"data row0 col0\" >0.840000</td>\n",
       "      <td id=\"T_ebb87_row0_col1\" class=\"data row0 col1\" >0.280000</td>\n",
       "      <td id=\"T_ebb87_row0_col2\" class=\"data row0 col2\" >0.430000</td>\n",
       "      <td id=\"T_ebb87_row0_col3\" class=\"data row0 col3\" >1018.000000</td>\n",
       "    </tr>\n",
       "    <tr>\n",
       "      <th id=\"T_ebb87_level0_row1\" class=\"row_heading level0 row1\" >1</th>\n",
       "      <td id=\"T_ebb87_row1_col0\" class=\"data row1 col0\" >0.880000</td>\n",
       "      <td id=\"T_ebb87_row1_col1\" class=\"data row1 col1\" >0.990000</td>\n",
       "      <td id=\"T_ebb87_row1_col2\" class=\"data row1 col2\" >0.930000</td>\n",
       "      <td id=\"T_ebb87_row1_col3\" class=\"data row1 col3\" >5152.000000</td>\n",
       "    </tr>\n",
       "    <tr>\n",
       "      <th id=\"T_ebb87_level0_row2\" class=\"row_heading level0 row2\" >accuracy</th>\n",
       "      <td id=\"T_ebb87_row2_col0\" class=\"data row2 col0\" >0.870000</td>\n",
       "      <td id=\"T_ebb87_row2_col1\" class=\"data row2 col1\" >0.870000</td>\n",
       "      <td id=\"T_ebb87_row2_col2\" class=\"data row2 col2\" >0.870000</td>\n",
       "      <td id=\"T_ebb87_row2_col3\" class=\"data row2 col3\" >0.870000</td>\n",
       "    </tr>\n",
       "    <tr>\n",
       "      <th id=\"T_ebb87_level0_row3\" class=\"row_heading level0 row3\" >macro avg</th>\n",
       "      <td id=\"T_ebb87_row3_col0\" class=\"data row3 col0\" >0.860000</td>\n",
       "      <td id=\"T_ebb87_row3_col1\" class=\"data row3 col1\" >0.640000</td>\n",
       "      <td id=\"T_ebb87_row3_col2\" class=\"data row3 col2\" >0.680000</td>\n",
       "      <td id=\"T_ebb87_row3_col3\" class=\"data row3 col3\" >6170.000000</td>\n",
       "    </tr>\n",
       "    <tr>\n",
       "      <th id=\"T_ebb87_level0_row4\" class=\"row_heading level0 row4\" >weighted avg</th>\n",
       "      <td id=\"T_ebb87_row4_col0\" class=\"data row4 col0\" >0.870000</td>\n",
       "      <td id=\"T_ebb87_row4_col1\" class=\"data row4 col1\" >0.870000</td>\n",
       "      <td id=\"T_ebb87_row4_col2\" class=\"data row4 col2\" >0.850000</td>\n",
       "      <td id=\"T_ebb87_row4_col3\" class=\"data row4 col3\" >6170.000000</td>\n",
       "    </tr>\n",
       "  </tbody>\n",
       "</table>\n"
      ],
      "text/plain": [
       "<pandas.io.formats.style.Styler at 0x78d76cd1f040>"
      ]
     },
     "execution_count": 24,
     "metadata": {},
     "output_type": "execute_result"
    }
   ],
   "source": [
    "# Predict using training and testing data and display the accuracy, f-1 score, precision for Positive and Negative Sentiment Classifiers \n",
    "ranfrst_predictions = random_forest.predict(tvec.transform(X_test_cleaned))\n",
    "report = classification_report(Y_test,ranfrst_predictions, output_dict=True)\n",
    "data_report = pd.DataFrame(report).transpose().round(2)\n",
    "cm = sns.light_palette(\"red\", as_cmap=True)\n",
    "data_report.style.background_gradient(cmap=cm)"
   ]
  },
  {
   "cell_type": "code",
   "execution_count": 25,
   "id": "11e223d0",
   "metadata": {
    "execution": {
     "iopub.execute_input": "2023-08-17T19:57:33.938839Z",
     "iopub.status.busy": "2023-08-17T19:57:33.938441Z",
     "iopub.status.idle": "2023-08-17T19:57:35.029408Z",
     "shell.execute_reply": "2023-08-17T19:57:35.028095Z"
    },
    "papermill": {
     "duration": 1.1137,
     "end_time": "2023-08-17T19:57:35.032244",
     "exception": false,
     "start_time": "2023-08-17T19:57:33.918544",
     "status": "completed"
    },
    "tags": []
   },
   "outputs": [
    {
     "data": {
      "image/png": "[encoded data removed]",
      "text/plain": [
       "<Figure size 640x480 with 2 Axes>"
      ]
     },
     "metadata": {},
     "output_type": "display_data"
    }
   ],
   "source": [
    "# confusion matrix\n",
    "ranfrst_predictions=random_forest.predict(tvec.transform(X_test_cleaned))\n",
    "ax= plt.subplot()\n",
    "cm=confusion_matrix(Y_test,ranfrst_predictions)\n",
    "sns.heatmap(cm, annot=True, fmt='g', ax=ax,cmap='Oranges');  \n",
    "ax.set_xlabel('Predicted labels');ax.set_ylabel('True labels');\n",
    "ax.set_title('Confusion Matrix');\n",
    "ax.xaxis.set_ticklabels(['negative', 'positive']); ax.yaxis.set_ticklabels(['negative', 'positive']);"
   ]
  },
  {
   "cell_type": "code",
   "execution_count": 26,
   "id": "92317e2b",
   "metadata": {
    "execution": {
     "iopub.execute_input": "2023-08-17T19:57:35.071641Z",
     "iopub.status.busy": "2023-08-17T19:57:35.070965Z",
     "iopub.status.idle": "2023-08-17T19:57:35.091221Z",
     "shell.execute_reply": "2023-08-17T19:57:35.089883Z"
    },
    "papermill": {
     "duration": 0.04329,
     "end_time": "2023-08-17T19:57:35.093921",
     "exception": false,
     "start_time": "2023-08-17T19:57:35.050631",
     "status": "completed"
    },
    "tags": []
   },
   "outputs": [
    {
     "name": "stdout",
     "output_type": "stream",
     "text": [
      "[0]\n"
     ]
    }
   ],
   "source": [
    "# testing the model with sample 'Negative' review\n",
    "demo_review = np.array(['Do not buy. Fake Product.'])\n",
    "demo_review_X_test = tvec.transform(demo_review)\n",
    "print(random_forest.predict(demo_review_X_test))\n",
    "\n",
    "# expected output = 0 (Negative)\n",
    "# actual output = 0 (Negative)"
   ]
  },
  {
   "cell_type": "code",
   "execution_count": 27,
   "id": "085acaa1",
   "metadata": {
    "execution": {
     "iopub.execute_input": "2023-08-17T19:57:35.132675Z",
     "iopub.status.busy": "2023-08-17T19:57:35.132261Z",
     "iopub.status.idle": "2023-08-17T19:57:35.152450Z",
     "shell.execute_reply": "2023-08-17T19:57:35.151540Z"
    },
    "papermill": {
     "duration": 0.04232,
     "end_time": "2023-08-17T19:57:35.154639",
     "exception": false,
     "start_time": "2023-08-17T19:57:35.112319",
     "status": "completed"
    },
    "tags": []
   },
   "outputs": [
    {
     "name": "stdout",
     "output_type": "stream",
     "text": [
      "[1]\n"
     ]
    }
   ],
   "source": [
    "# testing the model with sample 'Positive' review\n",
    "demo_review_2 = np.array(['Original Product. Great Performance.'])\n",
    "demo_review_X_test_2 = tvec.transform(demo_review_2)\n",
    "print(random_forest.predict(demo_review_X_test_2))\n",
    "\n",
    "# expected output = 1 (Positive)\n",
    "# actual output = 1 (Positive)"
   ]
  },
  {
   "cell_type": "code",
   "execution_count": 28,
   "id": "9972d528",
   "metadata": {
    "execution": {
     "iopub.execute_input": "2023-08-17T19:57:35.194470Z",
     "iopub.status.busy": "2023-08-17T19:57:35.193805Z",
     "iopub.status.idle": "2023-08-17T19:57:35.209727Z",
     "shell.execute_reply": "2023-08-17T19:57:35.208719Z"
    },
    "papermill": {
     "duration": 0.039009,
     "end_time": "2023-08-17T19:57:35.212181",
     "exception": false,
     "start_time": "2023-08-17T19:57:35.173172",
     "status": "completed"
    },
    "tags": []
   },
   "outputs": [
    {
     "data": {
      "text/html": [
       "<style>#sk-container-id-3 {color: black;background-color: white;}#sk-container-id-3 pre{padding: 0;}#sk-container-id-3 div.sk-toggleable {background-color: white;}#sk-container-id-3 label.sk-toggleable__label {cursor: pointer;display: block;width: 100%;margin-bottom: 0;padding: 0.3em;box-sizing: border-box;text-align: center;}#sk-container-id-3 label.sk-toggleable__label-arrow:before {content: \"▸\";float: left;margin-right: 0.25em;color: #696969;}#sk-container-id-3 label.sk-toggleable__label-arrow:hover:before {color: black;}#sk-container-id-3 div.sk-estimator:hover label.sk-toggleable__label-arrow:before {color: black;}#sk-container-id-3 div.sk-toggleable__content {max-height: 0;max-width: 0;overflow: hidden;text-align: left;background-color: #f0f8ff;}#sk-container-id-3 div.sk-toggleable__content pre {margin: 0.2em;color: black;border-radius: 0.25em;background-color: #f0f8ff;}#sk-container-id-3 input.sk-toggleable__control:checked~div.sk-toggleable__content {max-height: 200px;max-width: 100%;overflow: auto;}#sk-container-id-3 input.sk-toggleable__control:checked~label.sk-toggleable__label-arrow:before {content: \"▾\";}#sk-container-id-3 div.sk-estimator input.sk-toggleable__control:checked~label.sk-toggleable__label {background-color: #d4ebff;}#sk-container-id-3 div.sk-label input.sk-toggleable__control:checked~label.sk-toggleable__label {background-color: #d4ebff;}#sk-container-id-3 input.sk-hidden--visually {border: 0;clip: rect(1px 1px 1px 1px);clip: rect(1px, 1px, 1px, 1px);height: 1px;margin: -1px;overflow: hidden;padding: 0;position: absolute;width: 1px;}#sk-container-id-3 div.sk-estimator {font-family: monospace;background-color: #f0f8ff;border: 1px dotted black;border-radius: 0.25em;box-sizing: border-box;margin-bottom: 0.5em;}#sk-container-id-3 div.sk-estimator:hover {background-color: #d4ebff;}#sk-container-id-3 div.sk-parallel-item::after {content: \"\";width: 100%;border-bottom: 1px solid gray;flex-grow: 1;}#sk-container-id-3 div.sk-label:hover label.sk-toggleable__label {background-color: #d4ebff;}#sk-container-id-3 div.sk-serial::before {content: \"\";position: absolute;border-left: 1px solid gray;box-sizing: border-box;top: 0;bottom: 0;left: 50%;z-index: 0;}#sk-container-id-3 div.sk-serial {display: flex;flex-direction: column;align-items: center;background-color: white;padding-right: 0.2em;padding-left: 0.2em;position: relative;}#sk-container-id-3 div.sk-item {position: relative;z-index: 1;}#sk-container-id-3 div.sk-parallel {display: flex;align-items: stretch;justify-content: center;background-color: white;position: relative;}#sk-container-id-3 div.sk-item::before, #sk-container-id-3 div.sk-parallel-item::before {content: \"\";position: absolute;border-left: 1px solid gray;box-sizing: border-box;top: 0;bottom: 0;left: 50%;z-index: -1;}#sk-container-id-3 div.sk-parallel-item {display: flex;flex-direction: column;z-index: 1;position: relative;background-color: white;}#sk-container-id-3 div.sk-parallel-item:first-child::after {align-self: flex-end;width: 50%;}#sk-container-id-3 div.sk-parallel-item:last-child::after {align-self: flex-start;width: 50%;}#sk-container-id-3 div.sk-parallel-item:only-child::after {width: 0;}#sk-container-id-3 div.sk-dashed-wrapped {border: 1px dashed gray;margin: 0 0.4em 0.5em 0.4em;box-sizing: border-box;padding-bottom: 0.4em;background-color: white;}#sk-container-id-3 div.sk-label label {font-family: monospace;font-weight: bold;display: inline-block;line-height: 1.2em;}#sk-container-id-3 div.sk-label-container {text-align: center;}#sk-container-id-3 div.sk-container {/* jupyter's `normalize.less` sets `[hidden] { display: none; }` but bootstrap.min.css set `[hidden] { display: none !important; }` so we also need the `!important` here to be able to override the default hidden behavior on the sphinx rendered scikit-learn.org. See: https://github.com/scikit-learn/scikit-learn/issues/21755 */display: inline-block !important;position: relative;}#sk-container-id-3 div.sk-text-repr-fallback {display: none;}</style><div id=\"sk-container-id-3\" class=\"sk-top-container\"><div class=\"sk-text-repr-fallback\"><pre>KNeighborsClassifier()</pre><b>In a Jupyter environment, please rerun this cell to show the HTML representation or trust the notebook. <br />On GitHub, the HTML representation is unable to render, please try loading this page with nbviewer.org.</b></div><div class=\"sk-container\" hidden><div class=\"sk-item\"><div class=\"sk-estimator sk-toggleable\"><input class=\"sk-toggleable__control sk-hidden--visually\" id=\"sk-estimator-id-3\" type=\"checkbox\" checked><label for=\"sk-estimator-id-3\" class=\"sk-toggleable__label sk-toggleable__label-arrow\">KNeighborsClassifier</label><div class=\"sk-toggleable__content\"><pre>KNeighborsClassifier()</pre></div></div></div></div></div>"
      ],
      "text/plain": [
       "KNeighborsClassifier()"
      ]
     },
     "execution_count": 28,
     "metadata": {},
     "output_type": "execute_result"
    }
   ],
   "source": [
    "# K-Nearest Neighbor model\n",
    "knn = KNeighborsClassifier(n_neighbors=5,metric='minkowski',p=2)\n",
    "knn.fit(X_train_tvec, Y_train)"
   ]
  },
  {
   "cell_type": "code",
   "execution_count": 29,
   "id": "2eb17e4f",
   "metadata": {
    "execution": {
     "iopub.execute_input": "2023-08-17T19:57:35.252643Z",
     "iopub.status.busy": "2023-08-17T19:57:35.252187Z",
     "iopub.status.idle": "2023-08-17T19:58:26.086489Z",
     "shell.execute_reply": "2023-08-17T19:58:26.085296Z"
    },
    "papermill": {
     "duration": 50.877146,
     "end_time": "2023-08-17T19:58:26.108103",
     "exception": false,
     "start_time": "2023-08-17T19:57:35.230957",
     "status": "completed"
    },
    "tags": []
   },
   "outputs": [
    {
     "data": {
      "text/html": [
       "<style type=\"text/css\">\n",
       "#T_46a68_row0_col0, #T_46a68_row0_col1, #T_46a68_row0_col2, #T_46a68_row2_col3 {\n",
       "  background-color: #f1f1f1;\n",
       "  color: #000000;\n",
       "}\n",
       "#T_46a68_row0_col3 {\n",
       "  background-color: #dedede;\n",
       "  color: #000000;\n",
       "}\n",
       "#T_46a68_row1_col0, #T_46a68_row1_col1, #T_46a68_row1_col2, #T_46a68_row2_col0, #T_46a68_row3_col3, #T_46a68_row4_col3 {\n",
       "  background-color: #808080;\n",
       "  color: #f1f1f1;\n",
       "}\n",
       "#T_46a68_row1_col3, #T_46a68_row2_col1, #T_46a68_row4_col1, #T_46a68_row4_col2 {\n",
       "  background-color: #939393;\n",
       "  color: #f1f1f1;\n",
       "}\n",
       "#T_46a68_row2_col2 {\n",
       "  background-color: #898989;\n",
       "  color: #f1f1f1;\n",
       "}\n",
       "#T_46a68_row3_col0, #T_46a68_row3_col2 {\n",
       "  background-color: #b8b8b8;\n",
       "  color: #000000;\n",
       "}\n",
       "#T_46a68_row3_col1 {\n",
       "  background-color: #b9b9b9;\n",
       "  color: #000000;\n",
       "}\n",
       "#T_46a68_row4_col0 {\n",
       "  background-color: #979797;\n",
       "  color: #f1f1f1;\n",
       "}\n",
       "</style>\n",
       "<table id=\"T_46a68\">\n",
       "  <thead>\n",
       "    <tr>\n",
       "      <th class=\"blank level0\" >&nbsp;</th>\n",
       "      <th id=\"T_46a68_level0_col0\" class=\"col_heading level0 col0\" >precision</th>\n",
       "      <th id=\"T_46a68_level0_col1\" class=\"col_heading level0 col1\" >recall</th>\n",
       "      <th id=\"T_46a68_level0_col2\" class=\"col_heading level0 col2\" >f1-score</th>\n",
       "      <th id=\"T_46a68_level0_col3\" class=\"col_heading level0 col3\" >support</th>\n",
       "    </tr>\n",
       "  </thead>\n",
       "  <tbody>\n",
       "    <tr>\n",
       "      <th id=\"T_46a68_level0_row0\" class=\"row_heading level0 row0\" >0</th>\n",
       "      <td id=\"T_46a68_row0_col0\" class=\"data row0 col0\" >0.740000</td>\n",
       "      <td id=\"T_46a68_row0_col1\" class=\"data row0 col1\" >0.030000</td>\n",
       "      <td id=\"T_46a68_row0_col2\" class=\"data row0 col2\" >0.060000</td>\n",
       "      <td id=\"T_46a68_row0_col3\" class=\"data row0 col3\" >1018.000000</td>\n",
       "    </tr>\n",
       "    <tr>\n",
       "      <th id=\"T_46a68_level0_row1\" class=\"row_heading level0 row1\" >1</th>\n",
       "      <td id=\"T_46a68_row1_col0\" class=\"data row1 col0\" >0.840000</td>\n",
       "      <td id=\"T_46a68_row1_col1\" class=\"data row1 col1\" >1.000000</td>\n",
       "      <td id=\"T_46a68_row1_col2\" class=\"data row1 col2\" >0.910000</td>\n",
       "      <td id=\"T_46a68_row1_col3\" class=\"data row1 col3\" >5152.000000</td>\n",
       "    </tr>\n",
       "    <tr>\n",
       "      <th id=\"T_46a68_level0_row2\" class=\"row_heading level0 row2\" >accuracy</th>\n",
       "      <td id=\"T_46a68_row2_col0\" class=\"data row2 col0\" >0.840000</td>\n",
       "      <td id=\"T_46a68_row2_col1\" class=\"data row2 col1\" >0.840000</td>\n",
       "      <td id=\"T_46a68_row2_col2\" class=\"data row2 col2\" >0.840000</td>\n",
       "      <td id=\"T_46a68_row2_col3\" class=\"data row2 col3\" >0.840000</td>\n",
       "    </tr>\n",
       "    <tr>\n",
       "      <th id=\"T_46a68_level0_row3\" class=\"row_heading level0 row3\" >macro avg</th>\n",
       "      <td id=\"T_46a68_row3_col0\" class=\"data row3 col0\" >0.790000</td>\n",
       "      <td id=\"T_46a68_row3_col1\" class=\"data row3 col1\" >0.510000</td>\n",
       "      <td id=\"T_46a68_row3_col2\" class=\"data row3 col2\" >0.490000</td>\n",
       "      <td id=\"T_46a68_row3_col3\" class=\"data row3 col3\" >6170.000000</td>\n",
       "    </tr>\n",
       "    <tr>\n",
       "      <th id=\"T_46a68_level0_row4\" class=\"row_heading level0 row4\" >weighted avg</th>\n",
       "      <td id=\"T_46a68_row4_col0\" class=\"data row4 col0\" >0.820000</td>\n",
       "      <td id=\"T_46a68_row4_col1\" class=\"data row4 col1\" >0.840000</td>\n",
       "      <td id=\"T_46a68_row4_col2\" class=\"data row4 col2\" >0.770000</td>\n",
       "      <td id=\"T_46a68_row4_col3\" class=\"data row4 col3\" >6170.000000</td>\n",
       "    </tr>\n",
       "  </tbody>\n",
       "</table>\n"
      ],
      "text/plain": [
       "<pandas.io.formats.style.Styler at 0x78d7594ce350>"
      ]
     },
     "execution_count": 29,
     "metadata": {},
     "output_type": "execute_result"
    }
   ],
   "source": [
    "# Predict using training and testing data and display the accuracy, f-1 score, precision for Positive and Negative Sentiment Classifiers \n",
    "knn_predictions = knn.predict(tvec.transform(X_test_cleaned))\n",
    "report = classification_report(Y_test,knn_predictions, output_dict=True)\n",
    "data_report = pd.DataFrame(report).transpose().round(2)\n",
    "cm = sns.light_palette(\"gray\", as_cmap=True)\n",
    "data_report.style.background_gradient(cmap=cm)"
   ]
  },
  {
   "cell_type": "code",
   "execution_count": 30,
   "id": "51623663",
   "metadata": {
    "execution": {
     "iopub.execute_input": "2023-08-17T19:58:26.148508Z",
     "iopub.status.busy": "2023-08-17T19:58:26.148076Z",
     "iopub.status.idle": "2023-08-17T19:59:17.682653Z",
     "shell.execute_reply": "2023-08-17T19:59:17.681361Z"
    },
    "papermill": {
     "duration": 51.577109,
     "end_time": "2023-08-17T19:59:17.704855",
     "exception": false,
     "start_time": "2023-08-17T19:58:26.127746",
     "status": "completed"
    },
    "tags": []
   },
   "outputs": [
    {
     "data": {
      "image/png": "[encoded data removed]",
      "text/plain": [
       "<Figure size 640x480 with 2 Axes>"
      ]
     },
     "metadata": {},
     "output_type": "display_data"
    }
   ],
   "source": [
    "# confusion matrix\n",
    "knn_predictions=knn.predict(tvec.transform(X_test_cleaned))\n",
    "ax= plt.subplot()\n",
    "cm=confusion_matrix(Y_test,knn_predictions)\n",
    "sns.heatmap(cm, annot=True, fmt='g', ax=ax,cmap='Reds');  \n",
    "ax.set_xlabel('Predicted labels');ax.set_ylabel('True labels');\n",
    "ax.set_title('Confusion Matrix');\n",
    "ax.xaxis.set_ticklabels(['negative', 'positive']); ax.yaxis.set_ticklabels(['negative', 'positive']);"
   ]
  },
  {
   "cell_type": "code",
   "execution_count": 31,
   "id": "a8c55813",
   "metadata": {
    "execution": {
     "iopub.execute_input": "2023-08-17T19:59:17.746467Z",
     "iopub.status.busy": "2023-08-17T19:59:17.745712Z",
     "iopub.status.idle": "2023-08-17T19:59:17.762887Z",
     "shell.execute_reply": "2023-08-17T19:59:17.761841Z"
    },
    "papermill": {
     "duration": 0.04089,
     "end_time": "2023-08-17T19:59:17.765533",
     "exception": false,
     "start_time": "2023-08-17T19:59:17.724643",
     "status": "completed"
    },
    "tags": []
   },
   "outputs": [
    {
     "name": "stdout",
     "output_type": "stream",
     "text": [
      "[0]\n"
     ]
    }
   ],
   "source": [
    "# testing the model with sample 'Negative' review\n",
    "demo_review = np.array(['Bad product. Very much disappointed'])\n",
    "demo_review_X_test = tvec.transform(demo_review)\n",
    "print(knn.predict(demo_review_X_test))\n",
    "\n",
    "# expected output = 0 (Negative)\n",
    "# actual output = 0 (Negative)"
   ]
  },
  {
   "cell_type": "code",
   "execution_count": 32,
   "id": "0c329f90",
   "metadata": {
    "execution": {
     "iopub.execute_input": "2023-08-17T19:59:17.807567Z",
     "iopub.status.busy": "2023-08-17T19:59:17.807148Z",
     "iopub.status.idle": "2023-08-17T19:59:17.831229Z",
     "shell.execute_reply": "2023-08-17T19:59:17.830176Z"
    },
    "papermill": {
     "duration": 0.048328,
     "end_time": "2023-08-17T19:59:17.834506",
     "exception": false,
     "start_time": "2023-08-17T19:59:17.786178",
     "status": "completed"
    },
    "tags": []
   },
   "outputs": [
    {
     "name": "stdout",
     "output_type": "stream",
     "text": [
      "[1]\n"
     ]
    }
   ],
   "source": [
    "# testing the model with sample 'Positive' review\n",
    "demo_review_2 = np.array(['Excellent product. Works well and performs as expected.'])\n",
    "demo_review_X_test_2 = tvec.transform(demo_review_2)\n",
    "print(knn.predict(demo_review_X_test_2))\n",
    "\n",
    "# expected output = 1 (Positive)\n",
    "# actual output = 1 (Positive)"
   ]
  },
  {
   "cell_type": "code",
   "execution_count": 33,
   "id": "79e6d91c",
   "metadata": {
    "execution": {
     "iopub.execute_input": "2023-08-17T19:59:17.878457Z",
     "iopub.status.busy": "2023-08-17T19:59:17.877978Z",
     "iopub.status.idle": "2023-08-17T19:59:19.472839Z",
     "shell.execute_reply": "2023-08-17T19:59:19.471080Z"
    },
    "papermill": {
     "duration": 1.621198,
     "end_time": "2023-08-17T19:59:19.477669",
     "exception": false,
     "start_time": "2023-08-17T19:59:17.856471",
     "status": "completed"
    },
    "tags": []
   },
   "outputs": [
    {
     "data": {
      "text/html": [
       "<style>#sk-container-id-4 {color: black;background-color: white;}#sk-container-id-4 pre{padding: 0;}#sk-container-id-4 div.sk-toggleable {background-color: white;}#sk-container-id-4 label.sk-toggleable__label {cursor: pointer;display: block;width: 100%;margin-bottom: 0;padding: 0.3em;box-sizing: border-box;text-align: center;}#sk-container-id-4 label.sk-toggleable__label-arrow:before {content: \"▸\";float: left;margin-right: 0.25em;color: #696969;}#sk-container-id-4 label.sk-toggleable__label-arrow:hover:before {color: black;}#sk-container-id-4 div.sk-estimator:hover label.sk-toggleable__label-arrow:before {color: black;}#sk-container-id-4 div.sk-toggleable__content {max-height: 0;max-width: 0;overflow: hidden;text-align: left;background-color: #f0f8ff;}#sk-container-id-4 div.sk-toggleable__content pre {margin: 0.2em;color: black;border-radius: 0.25em;background-color: #f0f8ff;}#sk-container-id-4 input.sk-toggleable__control:checked~div.sk-toggleable__content {max-height: 200px;max-width: 100%;overflow: auto;}#sk-container-id-4 input.sk-toggleable__control:checked~label.sk-toggleable__label-arrow:before {content: \"▾\";}#sk-container-id-4 div.sk-estimator input.sk-toggleable__control:checked~label.sk-toggleable__label {background-color: #d4ebff;}#sk-container-id-4 div.sk-label input.sk-toggleable__control:checked~label.sk-toggleable__label {background-color: #d4ebff;}#sk-container-id-4 input.sk-hidden--visually {border: 0;clip: rect(1px 1px 1px 1px);clip: rect(1px, 1px, 1px, 1px);height: 1px;margin: -1px;overflow: hidden;padding: 0;position: absolute;width: 1px;}#sk-container-id-4 div.sk-estimator {font-family: monospace;background-color: #f0f8ff;border: 1px dotted black;border-radius: 0.25em;box-sizing: border-box;margin-bottom: 0.5em;}#sk-container-id-4 div.sk-estimator:hover {background-color: #d4ebff;}#sk-container-id-4 div.sk-parallel-item::after {content: \"\";width: 100%;border-bottom: 1px solid gray;flex-grow: 1;}#sk-container-id-4 div.sk-label:hover label.sk-toggleable__label {background-color: #d4ebff;}#sk-container-id-4 div.sk-serial::before {content: \"\";position: absolute;border-left: 1px solid gray;box-sizing: border-box;top: 0;bottom: 0;left: 50%;z-index: 0;}#sk-container-id-4 div.sk-serial {display: flex;flex-direction: column;align-items: center;background-color: white;padding-right: 0.2em;padding-left: 0.2em;position: relative;}#sk-container-id-4 div.sk-item {position: relative;z-index: 1;}#sk-container-id-4 div.sk-parallel {display: flex;align-items: stretch;justify-content: center;background-color: white;position: relative;}#sk-container-id-4 div.sk-item::before, #sk-container-id-4 div.sk-parallel-item::before {content: \"\";position: absolute;border-left: 1px solid gray;box-sizing: border-box;top: 0;bottom: 0;left: 50%;z-index: -1;}#sk-container-id-4 div.sk-parallel-item {display: flex;flex-direction: column;z-index: 1;position: relative;background-color: white;}#sk-container-id-4 div.sk-parallel-item:first-child::after {align-self: flex-end;width: 50%;}#sk-container-id-4 div.sk-parallel-item:last-child::after {align-self: flex-start;width: 50%;}#sk-container-id-4 div.sk-parallel-item:only-child::after {width: 0;}#sk-container-id-4 div.sk-dashed-wrapped {border: 1px dashed gray;margin: 0 0.4em 0.5em 0.4em;box-sizing: border-box;padding-bottom: 0.4em;background-color: white;}#sk-container-id-4 div.sk-label label {font-family: monospace;font-weight: bold;display: inline-block;line-height: 1.2em;}#sk-container-id-4 div.sk-label-container {text-align: center;}#sk-container-id-4 div.sk-container {/* jupyter's `normalize.less` sets `[hidden] { display: none; }` but bootstrap.min.css set `[hidden] { display: none !important; }` so we also need the `!important` here to be able to override the default hidden behavior on the sphinx rendered scikit-learn.org. See: https://github.com/scikit-learn/scikit-learn/issues/21755 */display: inline-block !important;position: relative;}#sk-container-id-4 div.sk-text-repr-fallback {display: none;}</style><div id=\"sk-container-id-4\" class=\"sk-top-container\"><div class=\"sk-text-repr-fallback\"><pre>LogisticRegression()</pre><b>In a Jupyter environment, please rerun this cell to show the HTML representation or trust the notebook. <br />On GitHub, the HTML representation is unable to render, please try loading this page with nbviewer.org.</b></div><div class=\"sk-container\" hidden><div class=\"sk-item\"><div class=\"sk-estimator sk-toggleable\"><input class=\"sk-toggleable__control sk-hidden--visually\" id=\"sk-estimator-id-4\" type=\"checkbox\" checked><label for=\"sk-estimator-id-4\" class=\"sk-toggleable__label sk-toggleable__label-arrow\">LogisticRegression</label><div class=\"sk-toggleable__content\"><pre>LogisticRegression()</pre></div></div></div></div></div>"
      ],
      "text/plain": [
       "LogisticRegression()"
      ]
     },
     "execution_count": 33,
     "metadata": {},
     "output_type": "execute_result"
    }
   ],
   "source": [
    "# Logistic regression model\n",
    "lr = LogisticRegression()\n",
    "lr.fit(X_train_tvec, Y_train)"
   ]
  },
  {
   "cell_type": "code",
   "execution_count": 34,
   "id": "bee68b08",
   "metadata": {
    "execution": {
     "iopub.execute_input": "2023-08-17T19:59:19.587855Z",
     "iopub.status.busy": "2023-08-17T19:59:19.586785Z",
     "iopub.status.idle": "2023-08-17T19:59:19.913340Z",
     "shell.execute_reply": "2023-08-17T19:59:19.912110Z"
    },
    "papermill": {
     "duration": 0.354835,
     "end_time": "2023-08-17T19:59:19.916362",
     "exception": false,
     "start_time": "2023-08-17T19:59:19.561527",
     "status": "completed"
    },
    "tags": []
   },
   "outputs": [
    {
     "data": {
      "text/html": [
       "<style type=\"text/css\">\n",
       "#T_de32e_row0_col0, #T_de32e_row0_col1, #T_de32e_row0_col2, #T_de32e_row2_col3 {\n",
       "  background-color: #f3f0f3;\n",
       "  color: #000000;\n",
       "}\n",
       "#T_de32e_row0_col3 {\n",
       "  background-color: #e0c8e0;\n",
       "  color: #000000;\n",
       "}\n",
       "#T_de32e_row1_col0, #T_de32e_row1_col1, #T_de32e_row1_col2, #T_de32e_row3_col3, #T_de32e_row4_col3 {\n",
       "  background-color: #800080;\n",
       "  color: #f1f1f1;\n",
       "}\n",
       "#T_de32e_row1_col3 {\n",
       "  background-color: #932793;\n",
       "  color: #f1f1f1;\n",
       "}\n",
       "#T_de32e_row2_col0 {\n",
       "  background-color: #891289;\n",
       "  color: #f1f1f1;\n",
       "}\n",
       "#T_de32e_row2_col1, #T_de32e_row4_col1 {\n",
       "  background-color: #922692;\n",
       "  color: #f1f1f1;\n",
       "}\n",
       "#T_de32e_row2_col2 {\n",
       "  background-color: #902290;\n",
       "  color: #f1f1f1;\n",
       "}\n",
       "#T_de32e_row3_col0 {\n",
       "  background-color: #b56fb5;\n",
       "  color: #f1f1f1;\n",
       "}\n",
       "#T_de32e_row3_col1, #T_de32e_row3_col2 {\n",
       "  background-color: #b977b9;\n",
       "  color: #f1f1f1;\n",
       "}\n",
       "#T_de32e_row4_col0 {\n",
       "  background-color: #922592;\n",
       "  color: #f1f1f1;\n",
       "}\n",
       "#T_de32e_row4_col2 {\n",
       "  background-color: #942a94;\n",
       "  color: #f1f1f1;\n",
       "}\n",
       "</style>\n",
       "<table id=\"T_de32e\">\n",
       "  <thead>\n",
       "    <tr>\n",
       "      <th class=\"blank level0\" >&nbsp;</th>\n",
       "      <th id=\"T_de32e_level0_col0\" class=\"col_heading level0 col0\" >precision</th>\n",
       "      <th id=\"T_de32e_level0_col1\" class=\"col_heading level0 col1\" >recall</th>\n",
       "      <th id=\"T_de32e_level0_col2\" class=\"col_heading level0 col2\" >f1-score</th>\n",
       "      <th id=\"T_de32e_level0_col3\" class=\"col_heading level0 col3\" >support</th>\n",
       "    </tr>\n",
       "  </thead>\n",
       "  <tbody>\n",
       "    <tr>\n",
       "      <th id=\"T_de32e_level0_row0\" class=\"row_heading level0 row0\" >0</th>\n",
       "      <td id=\"T_de32e_row0_col0\" class=\"data row0 col0\" >0.790000</td>\n",
       "      <td id=\"T_de32e_row0_col1\" class=\"data row0 col1\" >0.590000</td>\n",
       "      <td id=\"T_de32e_row0_col2\" class=\"data row0 col2\" >0.670000</td>\n",
       "      <td id=\"T_de32e_row0_col3\" class=\"data row0 col3\" >1018.000000</td>\n",
       "    </tr>\n",
       "    <tr>\n",
       "      <th id=\"T_de32e_level0_row1\" class=\"row_heading level0 row1\" >1</th>\n",
       "      <td id=\"T_de32e_row1_col0\" class=\"data row1 col0\" >0.920000</td>\n",
       "      <td id=\"T_de32e_row1_col1\" class=\"data row1 col1\" >0.970000</td>\n",
       "      <td id=\"T_de32e_row1_col2\" class=\"data row1 col2\" >0.950000</td>\n",
       "      <td id=\"T_de32e_row1_col3\" class=\"data row1 col3\" >5152.000000</td>\n",
       "    </tr>\n",
       "    <tr>\n",
       "      <th id=\"T_de32e_level0_row2\" class=\"row_heading level0 row2\" >accuracy</th>\n",
       "      <td id=\"T_de32e_row2_col0\" class=\"data row2 col0\" >0.910000</td>\n",
       "      <td id=\"T_de32e_row2_col1\" class=\"data row2 col1\" >0.910000</td>\n",
       "      <td id=\"T_de32e_row2_col2\" class=\"data row2 col2\" >0.910000</td>\n",
       "      <td id=\"T_de32e_row2_col3\" class=\"data row2 col3\" >0.910000</td>\n",
       "    </tr>\n",
       "    <tr>\n",
       "      <th id=\"T_de32e_level0_row3\" class=\"row_heading level0 row3\" >macro avg</th>\n",
       "      <td id=\"T_de32e_row3_col0\" class=\"data row3 col0\" >0.860000</td>\n",
       "      <td id=\"T_de32e_row3_col1\" class=\"data row3 col1\" >0.780000</td>\n",
       "      <td id=\"T_de32e_row3_col2\" class=\"data row3 col2\" >0.810000</td>\n",
       "      <td id=\"T_de32e_row3_col3\" class=\"data row3 col3\" >6170.000000</td>\n",
       "    </tr>\n",
       "    <tr>\n",
       "      <th id=\"T_de32e_level0_row4\" class=\"row_heading level0 row4\" >weighted avg</th>\n",
       "      <td id=\"T_de32e_row4_col0\" class=\"data row4 col0\" >0.900000</td>\n",
       "      <td id=\"T_de32e_row4_col1\" class=\"data row4 col1\" >0.910000</td>\n",
       "      <td id=\"T_de32e_row4_col2\" class=\"data row4 col2\" >0.900000</td>\n",
       "      <td id=\"T_de32e_row4_col3\" class=\"data row4 col3\" >6170.000000</td>\n",
       "    </tr>\n",
       "  </tbody>\n",
       "</table>\n"
      ],
      "text/plain": [
       "<pandas.io.formats.style.Styler at 0x78d768ef9570>"
      ]
     },
     "execution_count": 34,
     "metadata": {},
     "output_type": "execute_result"
    }
   ],
   "source": [
    "# Predict using training and testing data and display the accuracy, f-1 score, precision for Positive and Negative Sentiment Classifiers \n",
    "lr_predictions = lr.predict(tvec.transform(X_test_cleaned))\n",
    "report = classification_report(Y_test,lr_predictions, output_dict=True)\n",
    "data_report = pd.DataFrame(report).transpose().round(2)\n",
    "cm = sns.light_palette(\"purple\", as_cmap=True)\n",
    "data_report.style.background_gradient(cmap=cm)"
   ]
  },
  {
   "cell_type": "code",
   "execution_count": 35,
   "id": "cd155fb4",
   "metadata": {
    "execution": {
     "iopub.execute_input": "2023-08-17T19:59:19.960329Z",
     "iopub.status.busy": "2023-08-17T19:59:19.959899Z",
     "iopub.status.idle": "2023-08-17T19:59:20.589101Z",
     "shell.execute_reply": "2023-08-17T19:59:20.587821Z"
    },
    "papermill": {
     "duration": 0.654161,
     "end_time": "2023-08-17T19:59:20.591769",
     "exception": false,
     "start_time": "2023-08-17T19:59:19.937608",
     "status": "completed"
    },
    "tags": []
   },
   "outputs": [
    {
     "data": {
      "image/png": "[encoded data removed]",
      "text/plain": [
       "<Figure size 640x480 with 2 Axes>"
      ]
     },
     "metadata": {},
     "output_type": "display_data"
    }
   ],
   "source": [
    "# confusion matrix\n",
    "lr_predictions=lr.predict(tvec.transform(X_test_cleaned))\n",
    "ax= plt.subplot()\n",
    "cm=confusion_matrix(Y_test,lr_predictions)\n",
    "sns.heatmap(cm, annot=True, fmt='g', ax=ax,cmap='Reds');  \n",
    "ax.set_xlabel('Predicted labels');ax.set_ylabel('True labels');\n",
    "ax.set_title('Confusion Matrix');\n",
    "ax.xaxis.set_ticklabels(['negative', 'positive']); ax.yaxis.set_ticklabels(['negative', 'positive']);"
   ]
  },
  {
   "cell_type": "code",
   "execution_count": 36,
   "id": "79e32fc7",
   "metadata": {
    "execution": {
     "iopub.execute_input": "2023-08-17T19:59:20.636704Z",
     "iopub.status.busy": "2023-08-17T19:59:20.635905Z",
     "iopub.status.idle": "2023-08-17T19:59:20.646556Z",
     "shell.execute_reply": "2023-08-17T19:59:20.644906Z"
    },
    "papermill": {
     "duration": 0.036775,
     "end_time": "2023-08-17T19:59:20.649325",
     "exception": false,
     "start_time": "2023-08-17T19:59:20.612550",
     "status": "completed"
    },
    "tags": []
   },
   "outputs": [
    {
     "name": "stdout",
     "output_type": "stream",
     "text": [
      "[0]\n"
     ]
    }
   ],
   "source": [
    "# testing the model with sample 'Negative' review\n",
    "demo_review = np.array(['Poor quality. Faulty device.'])\n",
    "demo_review_X_test = tvec.transform(demo_review)\n",
    "print(lr.predict(demo_review_X_test))\n",
    "\n",
    "# expected output = 0 (Negative)\n",
    "# actual output = 0 (Negative)"
   ]
  },
  {
   "cell_type": "code",
   "execution_count": 37,
   "id": "822ec07f",
   "metadata": {
    "execution": {
     "iopub.execute_input": "2023-08-17T19:59:20.693468Z",
     "iopub.status.busy": "2023-08-17T19:59:20.692999Z",
     "iopub.status.idle": "2023-08-17T19:59:20.701871Z",
     "shell.execute_reply": "2023-08-17T19:59:20.700476Z"
    },
    "papermill": {
     "duration": 0.034753,
     "end_time": "2023-08-17T19:59:20.704797",
     "exception": false,
     "start_time": "2023-08-17T19:59:20.670044",
     "status": "completed"
    },
    "tags": []
   },
   "outputs": [
    {
     "name": "stdout",
     "output_type": "stream",
     "text": [
      "[1]\n"
     ]
    }
   ],
   "source": [
    "# testing the model with sample 'Positive' review\n",
    "demo_review_2 = np.array(['Best product.'])\n",
    "demo_review_X_test_2 = tvec.transform(demo_review_2)\n",
    "print(lr.predict(demo_review_X_test_2))\n",
    "\n",
    "# expected output = 1 (Positive)\n",
    "# actual output = 1 (Positive)"
   ]
  },
  {
   "cell_type": "code",
   "execution_count": 38,
   "id": "44cfab52",
   "metadata": {
    "execution": {
     "iopub.execute_input": "2023-08-17T19:59:20.749970Z",
     "iopub.status.busy": "2023-08-17T19:59:20.749576Z",
     "iopub.status.idle": "2023-08-17T19:59:20.771235Z",
     "shell.execute_reply": "2023-08-17T19:59:20.769996Z"
    },
    "papermill": {
     "duration": 0.047422,
     "end_time": "2023-08-17T19:59:20.773653",
     "exception": false,
     "start_time": "2023-08-17T19:59:20.726231",
     "status": "completed"
    },
    "tags": []
   },
   "outputs": [
    {
     "data": {
      "text/html": [
       "<style>#sk-container-id-5 {color: black;background-color: white;}#sk-container-id-5 pre{padding: 0;}#sk-container-id-5 div.sk-toggleable {background-color: white;}#sk-container-id-5 label.sk-toggleable__label {cursor: pointer;display: block;width: 100%;margin-bottom: 0;padding: 0.3em;box-sizing: border-box;text-align: center;}#sk-container-id-5 label.sk-toggleable__label-arrow:before {content: \"▸\";float: left;margin-right: 0.25em;color: #696969;}#sk-container-id-5 label.sk-toggleable__label-arrow:hover:before {color: black;}#sk-container-id-5 div.sk-estimator:hover label.sk-toggleable__label-arrow:before {color: black;}#sk-container-id-5 div.sk-toggleable__content {max-height: 0;max-width: 0;overflow: hidden;text-align: left;background-color: #f0f8ff;}#sk-container-id-5 div.sk-toggleable__content pre {margin: 0.2em;color: black;border-radius: 0.25em;background-color: #f0f8ff;}#sk-container-id-5 input.sk-toggleable__control:checked~div.sk-toggleable__content {max-height: 200px;max-width: 100%;overflow: auto;}#sk-container-id-5 input.sk-toggleable__control:checked~label.sk-toggleable__label-arrow:before {content: \"▾\";}#sk-container-id-5 div.sk-estimator input.sk-toggleable__control:checked~label.sk-toggleable__label {background-color: #d4ebff;}#sk-container-id-5 div.sk-label input.sk-toggleable__control:checked~label.sk-toggleable__label {background-color: #d4ebff;}#sk-container-id-5 input.sk-hidden--visually {border: 0;clip: rect(1px 1px 1px 1px);clip: rect(1px, 1px, 1px, 1px);height: 1px;margin: -1px;overflow: hidden;padding: 0;position: absolute;width: 1px;}#sk-container-id-5 div.sk-estimator {font-family: monospace;background-color: #f0f8ff;border: 1px dotted black;border-radius: 0.25em;box-sizing: border-box;margin-bottom: 0.5em;}#sk-container-id-5 div.sk-estimator:hover {background-color: #d4ebff;}#sk-container-id-5 div.sk-parallel-item::after {content: \"\";width: 100%;border-bottom: 1px solid gray;flex-grow: 1;}#sk-container-id-5 div.sk-label:hover label.sk-toggleable__label {background-color: #d4ebff;}#sk-container-id-5 div.sk-serial::before {content: \"\";position: absolute;border-left: 1px solid gray;box-sizing: border-box;top: 0;bottom: 0;left: 50%;z-index: 0;}#sk-container-id-5 div.sk-serial {display: flex;flex-direction: column;align-items: center;background-color: white;padding-right: 0.2em;padding-left: 0.2em;position: relative;}#sk-container-id-5 div.sk-item {position: relative;z-index: 1;}#sk-container-id-5 div.sk-parallel {display: flex;align-items: stretch;justify-content: center;background-color: white;position: relative;}#sk-container-id-5 div.sk-item::before, #sk-container-id-5 div.sk-parallel-item::before {content: \"\";position: absolute;border-left: 1px solid gray;box-sizing: border-box;top: 0;bottom: 0;left: 50%;z-index: -1;}#sk-container-id-5 div.sk-parallel-item {display: flex;flex-direction: column;z-index: 1;position: relative;background-color: white;}#sk-container-id-5 div.sk-parallel-item:first-child::after {align-self: flex-end;width: 50%;}#sk-container-id-5 div.sk-parallel-item:last-child::after {align-self: flex-start;width: 50%;}#sk-container-id-5 div.sk-parallel-item:only-child::after {width: 0;}#sk-container-id-5 div.sk-dashed-wrapped {border: 1px dashed gray;margin: 0 0.4em 0.5em 0.4em;box-sizing: border-box;padding-bottom: 0.4em;background-color: white;}#sk-container-id-5 div.sk-label label {font-family: monospace;font-weight: bold;display: inline-block;line-height: 1.2em;}#sk-container-id-5 div.sk-label-container {text-align: center;}#sk-container-id-5 div.sk-container {/* jupyter's `normalize.less` sets `[hidden] { display: none; }` but bootstrap.min.css set `[hidden] { display: none !important; }` so we also need the `!important` here to be able to override the default hidden behavior on the sphinx rendered scikit-learn.org. See: https://github.com/scikit-learn/scikit-learn/issues/21755 */display: inline-block !important;position: relative;}#sk-container-id-5 div.sk-text-repr-fallback {display: none;}</style><div id=\"sk-container-id-5\" class=\"sk-top-container\"><div class=\"sk-text-repr-fallback\"><pre>MultinomialNB()</pre><b>In a Jupyter environment, please rerun this cell to show the HTML representation or trust the notebook. <br />On GitHub, the HTML representation is unable to render, please try loading this page with nbviewer.org.</b></div><div class=\"sk-container\" hidden><div class=\"sk-item\"><div class=\"sk-estimator sk-toggleable\"><input class=\"sk-toggleable__control sk-hidden--visually\" id=\"sk-estimator-id-5\" type=\"checkbox\" checked><label for=\"sk-estimator-id-5\" class=\"sk-toggleable__label sk-toggleable__label-arrow\">MultinomialNB</label><div class=\"sk-toggleable__content\"><pre>MultinomialNB()</pre></div></div></div></div></div>"
      ],
      "text/plain": [
       "MultinomialNB()"
      ]
     },
     "execution_count": 38,
     "metadata": {},
     "output_type": "execute_result"
    }
   ],
   "source": [
    "# Naive Bayes model\n",
    "nbm = naive_bayes.MultinomialNB()\n",
    "nbm.fit(X_train_tvec, Y_train)"
   ]
  },
  {
   "cell_type": "code",
   "execution_count": 39,
   "id": "01ecb3b9",
   "metadata": {
    "execution": {
     "iopub.execute_input": "2023-08-17T19:59:20.818814Z",
     "iopub.status.busy": "2023-08-17T19:59:20.818390Z",
     "iopub.status.idle": "2023-08-17T19:59:21.138309Z",
     "shell.execute_reply": "2023-08-17T19:59:21.136898Z"
    },
    "papermill": {
     "duration": 0.3458,
     "end_time": "2023-08-17T19:59:21.141512",
     "exception": false,
     "start_time": "2023-08-17T19:59:20.795712",
     "status": "completed"
    },
    "tags": []
   },
   "outputs": [
    {
     "data": {
      "text/html": [
       "<style type=\"text/css\">\n",
       "#T_e3eb4_row0_col0, #T_e3eb4_row1_col1, #T_e3eb4_row1_col2, #T_e3eb4_row3_col3, #T_e3eb4_row4_col3 {\n",
       "  background-color: #0000ff;\n",
       "  color: #f1f1f1;\n",
       "}\n",
       "#T_e3eb4_row0_col1, #T_e3eb4_row0_col2, #T_e3eb4_row1_col0, #T_e3eb4_row2_col0, #T_e3eb4_row2_col3, #T_e3eb4_row4_col0 {\n",
       "  background-color: #f0f0f3;\n",
       "  color: #000000;\n",
       "}\n",
       "#T_e3eb4_row0_col3 {\n",
       "  background-color: #c9c9f5;\n",
       "  color: #000000;\n",
       "}\n",
       "#T_e3eb4_row1_col3, #T_e3eb4_row2_col1, #T_e3eb4_row4_col1, #T_e3eb4_row4_col2 {\n",
       "  background-color: #2828fd;\n",
       "  color: #f1f1f1;\n",
       "}\n",
       "#T_e3eb4_row2_col2 {\n",
       "  background-color: #1616fe;\n",
       "  color: #f1f1f1;\n",
       "}\n",
       "#T_e3eb4_row3_col0 {\n",
       "  background-color: #9090f8;\n",
       "  color: #f1f1f1;\n",
       "}\n",
       "#T_e3eb4_row3_col1 {\n",
       "  background-color: #7a7af9;\n",
       "  color: #f1f1f1;\n",
       "}\n",
       "#T_e3eb4_row3_col2 {\n",
       "  background-color: #7979f9;\n",
       "  color: #f1f1f1;\n",
       "}\n",
       "</style>\n",
       "<table id=\"T_e3eb4\">\n",
       "  <thead>\n",
       "    <tr>\n",
       "      <th class=\"blank level0\" >&nbsp;</th>\n",
       "      <th id=\"T_e3eb4_level0_col0\" class=\"col_heading level0 col0\" >precision</th>\n",
       "      <th id=\"T_e3eb4_level0_col1\" class=\"col_heading level0 col1\" >recall</th>\n",
       "      <th id=\"T_e3eb4_level0_col2\" class=\"col_heading level0 col2\" >f1-score</th>\n",
       "      <th id=\"T_e3eb4_level0_col3\" class=\"col_heading level0 col3\" >support</th>\n",
       "    </tr>\n",
       "  </thead>\n",
       "  <tbody>\n",
       "    <tr>\n",
       "      <th id=\"T_e3eb4_level0_row0\" class=\"row_heading level0 row0\" >0</th>\n",
       "      <td id=\"T_e3eb4_row0_col0\" class=\"data row0 col0\" >0.910000</td>\n",
       "      <td id=\"T_e3eb4_row0_col1\" class=\"data row0 col1\" >0.150000</td>\n",
       "      <td id=\"T_e3eb4_row0_col2\" class=\"data row0 col2\" >0.260000</td>\n",
       "      <td id=\"T_e3eb4_row0_col3\" class=\"data row0 col3\" >1018.000000</td>\n",
       "    </tr>\n",
       "    <tr>\n",
       "      <th id=\"T_e3eb4_level0_row1\" class=\"row_heading level0 row1\" >1</th>\n",
       "      <td id=\"T_e3eb4_row1_col0\" class=\"data row1 col0\" >0.860000</td>\n",
       "      <td id=\"T_e3eb4_row1_col1\" class=\"data row1 col1\" >1.000000</td>\n",
       "      <td id=\"T_e3eb4_row1_col2\" class=\"data row1 col2\" >0.920000</td>\n",
       "      <td id=\"T_e3eb4_row1_col3\" class=\"data row1 col3\" >5152.000000</td>\n",
       "    </tr>\n",
       "    <tr>\n",
       "      <th id=\"T_e3eb4_level0_row2\" class=\"row_heading level0 row2\" >accuracy</th>\n",
       "      <td id=\"T_e3eb4_row2_col0\" class=\"data row2 col0\" >0.860000</td>\n",
       "      <td id=\"T_e3eb4_row2_col1\" class=\"data row2 col1\" >0.860000</td>\n",
       "      <td id=\"T_e3eb4_row2_col2\" class=\"data row2 col2\" >0.860000</td>\n",
       "      <td id=\"T_e3eb4_row2_col3\" class=\"data row2 col3\" >0.860000</td>\n",
       "    </tr>\n",
       "    <tr>\n",
       "      <th id=\"T_e3eb4_level0_row3\" class=\"row_heading level0 row3\" >macro avg</th>\n",
       "      <td id=\"T_e3eb4_row3_col0\" class=\"data row3 col0\" >0.880000</td>\n",
       "      <td id=\"T_e3eb4_row3_col1\" class=\"data row3 col1\" >0.570000</td>\n",
       "      <td id=\"T_e3eb4_row3_col2\" class=\"data row3 col2\" >0.590000</td>\n",
       "      <td id=\"T_e3eb4_row3_col3\" class=\"data row3 col3\" >6170.000000</td>\n",
       "    </tr>\n",
       "    <tr>\n",
       "      <th id=\"T_e3eb4_level0_row4\" class=\"row_heading level0 row4\" >weighted avg</th>\n",
       "      <td id=\"T_e3eb4_row4_col0\" class=\"data row4 col0\" >0.860000</td>\n",
       "      <td id=\"T_e3eb4_row4_col1\" class=\"data row4 col1\" >0.860000</td>\n",
       "      <td id=\"T_e3eb4_row4_col2\" class=\"data row4 col2\" >0.810000</td>\n",
       "      <td id=\"T_e3eb4_row4_col3\" class=\"data row4 col3\" >6170.000000</td>\n",
       "    </tr>\n",
       "  </tbody>\n",
       "</table>\n"
      ],
      "text/plain": [
       "<pandas.io.formats.style.Styler at 0x78d768f70520>"
      ]
     },
     "execution_count": 39,
     "metadata": {},
     "output_type": "execute_result"
    }
   ],
   "source": [
    "# Predict using training and testing data and display the accuracy, f-1 score, precision for Positive and Negative Sentiment Classifiers \n",
    "nbm_predictions = nbm.predict(tvec.transform(X_test_cleaned))\n",
    "report = classification_report(Y_test,nbm_predictions, output_dict=True)\n",
    "data_report = pd.DataFrame(report).transpose().round(2)\n",
    "cm = sns.light_palette(\"blue\", as_cmap=True)\n",
    "data_report.style.background_gradient(cmap=cm)"
   ]
  },
  {
   "cell_type": "code",
   "execution_count": 40,
   "id": "62955041",
   "metadata": {
    "execution": {
     "iopub.execute_input": "2023-08-17T19:59:21.189504Z",
     "iopub.status.busy": "2023-08-17T19:59:21.189089Z",
     "iopub.status.idle": "2023-08-17T19:59:21.828816Z",
     "shell.execute_reply": "2023-08-17T19:59:21.827478Z"
    },
    "papermill": {
     "duration": 0.66694,
     "end_time": "2023-08-17T19:59:21.831628",
     "exception": false,
     "start_time": "2023-08-17T19:59:21.164688",
     "status": "completed"
    },
    "tags": []
   },
   "outputs": [
    {
     "data": {
      "image/png": "[encoded data removed]",
      "text/plain": [
       "<Figure size 640x480 with 2 Axes>"
      ]
     },
     "metadata": {},
     "output_type": "display_data"
    }
   ],
   "source": [
    "# confusion matrix\n",
    "nbm_predictions=nbm.predict(tvec.transform(X_test_cleaned))\n",
    "ax= plt.subplot()\n",
    "cm=confusion_matrix(Y_test,nbm_predictions)\n",
    "sns.heatmap(cm, annot=True, fmt='g', ax=ax,cmap='Purples');  \n",
    "ax.set_xlabel('Predicted labels');ax.set_ylabel('True labels');\n",
    "ax.set_title('Confusion Matrix');\n",
    "ax.xaxis.set_ticklabels(['negative', 'positive']); ax.yaxis.set_ticklabels(['negative', 'positive']);"
   ]
  },
  {
   "cell_type": "code",
   "execution_count": 41,
   "id": "37daf623",
   "metadata": {
    "execution": {
     "iopub.execute_input": "2023-08-17T19:59:21.878604Z",
     "iopub.status.busy": "2023-08-17T19:59:21.878175Z",
     "iopub.status.idle": "2023-08-17T19:59:21.888206Z",
     "shell.execute_reply": "2023-08-17T19:59:21.886424Z"
    },
    "papermill": {
     "duration": 0.037545,
     "end_time": "2023-08-17T19:59:21.891444",
     "exception": false,
     "start_time": "2023-08-17T19:59:21.853899",
     "status": "completed"
    },
    "tags": []
   },
   "outputs": [
    {
     "name": "stdout",
     "output_type": "stream",
     "text": [
      "[0]\n"
     ]
    }
   ],
   "source": [
    "# testing the model with sample 'Negative' review\n",
    "demo_review = np.array(['Defective. Bad. Stopped working after one day use'])\n",
    "demo_review_X_test = tvec.transform(demo_review)\n",
    "print(nbm.predict(demo_review_X_test))\n",
    "\n",
    "# expected output = 0 (Negative)\n",
    "# actual output = 0 (Negative)"
   ]
  },
  {
   "cell_type": "code",
   "execution_count": 42,
   "id": "2ec7f8e1",
   "metadata": {
    "execution": {
     "iopub.execute_input": "2023-08-17T19:59:21.939702Z",
     "iopub.status.busy": "2023-08-17T19:59:21.938918Z",
     "iopub.status.idle": "2023-08-17T19:59:21.948131Z",
     "shell.execute_reply": "2023-08-17T19:59:21.946885Z"
    },
    "papermill": {
     "duration": 0.036177,
     "end_time": "2023-08-17T19:59:21.951046",
     "exception": false,
     "start_time": "2023-08-17T19:59:21.914869",
     "status": "completed"
    },
    "tags": []
   },
   "outputs": [
    {
     "name": "stdout",
     "output_type": "stream",
     "text": [
      "[1]\n"
     ]
    }
   ],
   "source": [
    "# testing the model with sample 'Positive' review\n",
    "demo_review_2 = np.array(['Good product. highly recommend buying.'])\n",
    "demo_review_X_test_2 = tvec.transform(demo_review_2)\n",
    "print(nbm.predict(demo_review_X_test_2))\n",
    "\n",
    "# expected output = 1 (Positive)\n",
    "# actual output = 1 (Positive)"
   ]
  },
  {
   "cell_type": "code",
   "execution_count": null,
   "id": "2fadd433",
   "metadata": {
    "papermill": {
     "duration": 0.022071,
     "end_time": "2023-08-17T19:59:21.995443",
     "exception": false,
     "start_time": "2023-08-17T19:59:21.973372",
     "status": "completed"
    },
    "tags": []
   },
   "outputs": [],
   "source": []
  },
  {
   "cell_type": "code",
   "execution_count": null,
   "id": "49cdc249",
   "metadata": {
    "papermill": {
     "duration": 0.022171,
     "end_time": "2023-08-17T19:59:22.043430",
     "exception": false,
     "start_time": "2023-08-17T19:59:22.021259",
     "status": "completed"
    },
    "tags": []
   },
   "outputs": [],
   "source": []
  }
 ],
 "metadata": {
  "kernelspec": {
   "display_name": "Python 3",
   "language": "python",
   "name": "python3"
  },
  "language_info": {
   "codemirror_mode": {
    "name": "ipython",
    "version": 3
   },
   "file_extension": ".py",
   "mimetype": "text/x-python",
   "name": "python",
   "nbconvert_exporter": "python",
   "pygments_lexer": "ipython3",
   "version": "3.10.12"
  },
  "papermill": {
   "default_parameters": {},
   "duration": 197.867856,
   "end_time": "2023-08-17T19:59:23.393923",
   "environment_variables": {},
   "exception": null,
   "input_path": "__notebook__.ipynb",
   "output_path": "__notebook__.ipynb",
   "parameters": {},
   "start_time": "2023-08-17T19:56:05.526067",
   "version": "2.4.0"
  }
 },
 "nbformat": 4,
 "nbformat_minor": 5
}
